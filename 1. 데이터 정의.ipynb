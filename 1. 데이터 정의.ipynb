{
 "cells": [
  {
   "cell_type": "code",
   "execution_count": 1,
   "metadata": {
    "ExecuteTime": {
     "end_time": "2021-03-05T08:13:08.614633Z",
     "start_time": "2021-03-05T08:13:08.012523Z"
    }
   },
   "outputs": [],
   "source": [
    "import pandas as pd\n",
    "import re\n",
    "from utils import *"
   ]
  },
  {
   "cell_type": "markdown",
   "metadata": {},
   "source": [
    "# 어벤져스 1편"
   ]
  },
  {
   "cell_type": "markdown",
   "metadata": {},
   "source": [
    "## 데이터 불러오기"
   ]
  },
  {
   "cell_type": "code",
   "execution_count": 2,
   "metadata": {
    "ExecuteTime": {
     "end_time": "2021-03-05T08:13:08.620116Z",
     "start_time": "2021-03-05T08:13:08.616347Z"
    }
   },
   "outputs": [],
   "source": [
    "path = \"./Data/Avengers1.txt\"\n",
    "\n",
    "script_by_scene = get_script_by_scene(path=path)"
   ]
  },
  {
   "cell_type": "code",
   "execution_count": 3,
   "metadata": {
    "ExecuteTime": {
     "end_time": "2021-03-05T08:13:08.628598Z",
     "start_time": "2021-03-05T08:13:08.622032Z"
    }
   },
   "outputs": [
    {
     "data": {
      "text/plain": [
       "98"
      ]
     },
     "execution_count": 3,
     "metadata": {},
     "output_type": "execute_result"
    }
   ],
   "source": [
    "len(script_by_scene)"
   ]
  },
  {
   "cell_type": "code",
   "execution_count": 4,
   "metadata": {
    "ExecuteTime": {
     "end_time": "2021-03-05T08:13:08.634007Z",
     "start_time": "2021-03-05T08:13:08.630558Z"
    }
   },
   "outputs": [
    {
     "data": {
      "text/plain": [
       "['01',\n",
       " '\"And there came a day, a day unlike any other, when Earth\\'s mightiest heroes and heroines found themselves united against a common threat. On that day, the Avengers were born--to fight the foes no single superhero could withstand! Through the years, their roster has prospered, changing many times, but their glory has never been denied! Heed the call, then--for now, the Avengers Assemble!\"',\n",
       " '[BURNING BLUE FLAMES. A smoky cube shape emerges - THE TESSERACT. Filling the screen with BLACKNESS.]',\n",
       " 'CUT TO: EXT. THRONE ROOM, SPACE ¬ NIGHT',\n",
       " '[Kneeling behind a THRONE, a clothed, armored figure known as THE OTHER.]',\n",
       " 'THE OTHER: The tesseract has awakened. It is on a little world. A human world. They would wield its power,... [he holds out the scepter]',\n",
       " 'Loki: [Coming out from the shadows, taking the staff]',\n",
       " 'THE OTHER: But our ally knows its workings as they never will. He is ready to lead. And our force, our Chitauri, will follow.',\n",
       " '[thousands of Chitauri are awaiting orders]',\n",
       " 'THE OTHER: The world will be his. The universe yours. And the humans, what can they do but burn?',\n",
       " '________________________________________',\n",
       " '']"
      ]
     },
     "execution_count": 4,
     "metadata": {},
     "output_type": "execute_result"
    }
   ],
   "source": [
    "script_by_scene[1].split(\"\\n\")"
   ]
  },
  {
   "cell_type": "markdown",
   "metadata": {},
   "source": [
    "## 가중치 데이터프레임 생성"
   ]
  },
  {
   "cell_type": "code",
   "execution_count": 5,
   "metadata": {
    "ExecuteTime": {
     "end_time": "2021-03-05T08:13:11.409101Z",
     "start_time": "2021-03-05T08:13:08.635422Z"
    }
   },
   "outputs": [
    {
     "data": {
      "text/html": [
       "<div>\n",
       "<style scoped>\n",
       "    .dataframe tbody tr th:only-of-type {\n",
       "        vertical-align: middle;\n",
       "    }\n",
       "\n",
       "    .dataframe tbody tr th {\n",
       "        vertical-align: top;\n",
       "    }\n",
       "\n",
       "    .dataframe thead th {\n",
       "        text-align: right;\n",
       "    }\n",
       "</style>\n",
       "<table border=\"1\" class=\"dataframe\">\n",
       "  <thead>\n",
       "    <tr style=\"text-align: right;\">\n",
       "      <th></th>\n",
       "      <th>Source</th>\n",
       "      <th>Target</th>\n",
       "      <th>Type</th>\n",
       "      <th>weight</th>\n",
       "    </tr>\n",
       "  </thead>\n",
       "  <tbody>\n",
       "    <tr>\n",
       "      <th>0</th>\n",
       "      <td>CUT TO</td>\n",
       "      <td>THE OTHER</td>\n",
       "      <td>Undirected</td>\n",
       "      <td>1</td>\n",
       "    </tr>\n",
       "    <tr>\n",
       "      <th>1</th>\n",
       "      <td>THE OTHER</td>\n",
       "      <td>LOKI</td>\n",
       "      <td>Undirected</td>\n",
       "      <td>10</td>\n",
       "    </tr>\n",
       "    <tr>\n",
       "      <th>2</th>\n",
       "      <td>THE OTHER</td>\n",
       "      <td>THE OTHER</td>\n",
       "      <td>Undirected</td>\n",
       "      <td>1</td>\n",
       "    </tr>\n",
       "    <tr>\n",
       "      <th>3</th>\n",
       "      <td>NICK FURY</td>\n",
       "      <td>AGENT PHIL COULSON</td>\n",
       "      <td>Undirected</td>\n",
       "      <td>5</td>\n",
       "    </tr>\n",
       "    <tr>\n",
       "      <th>4</th>\n",
       "      <td>AGENT PHIL COULSON</td>\n",
       "      <td>COULSON</td>\n",
       "      <td>Undirected</td>\n",
       "      <td>1</td>\n",
       "    </tr>\n",
       "    <tr>\n",
       "      <th>...</th>\n",
       "      <td>...</td>\n",
       "      <td>...</td>\n",
       "      <td>...</td>\n",
       "      <td>...</td>\n",
       "    </tr>\n",
       "    <tr>\n",
       "      <th>167</th>\n",
       "      <td>[TIGHT ON IRON MAN</td>\n",
       "      <td>THOR</td>\n",
       "      <td>Undirected</td>\n",
       "      <td>1</td>\n",
       "    </tr>\n",
       "    <tr>\n",
       "      <th>168</th>\n",
       "      <td>OLD MAN (STAN LEE)</td>\n",
       "      <td>SENATOR BOYNTON</td>\n",
       "      <td>Undirected</td>\n",
       "      <td>1</td>\n",
       "    </tr>\n",
       "    <tr>\n",
       "      <th>169</th>\n",
       "      <td>SENATOR BOYNTON</td>\n",
       "      <td>WAITRESS</td>\n",
       "      <td>Undirected</td>\n",
       "      <td>1</td>\n",
       "    </tr>\n",
       "    <tr>\n",
       "      <th>170</th>\n",
       "      <td>3</td>\n",
       "      <td>NICK FURY</td>\n",
       "      <td>Undirected</td>\n",
       "      <td>1</td>\n",
       "    </tr>\n",
       "    <tr>\n",
       "      <th>171</th>\n",
       "      <td>2</td>\n",
       "      <td>NICK FURY THE TESSERACT IS WHERE IT BELONGS</td>\n",
       "      <td>Undirected</td>\n",
       "      <td>1</td>\n",
       "    </tr>\n",
       "  </tbody>\n",
       "</table>\n",
       "<p>172 rows × 4 columns</p>\n",
       "</div>"
      ],
      "text/plain": [
       "                 Source                                       Target  \\\n",
       "0                CUT TO                                    THE OTHER   \n",
       "1             THE OTHER                                         LOKI   \n",
       "2             THE OTHER                                    THE OTHER   \n",
       "3             NICK FURY                           AGENT PHIL COULSON   \n",
       "4    AGENT PHIL COULSON                                      COULSON   \n",
       "..                  ...                                          ...   \n",
       "167  [TIGHT ON IRON MAN                                         THOR   \n",
       "168  OLD MAN (STAN LEE)                              SENATOR BOYNTON   \n",
       "169     SENATOR BOYNTON                                     WAITRESS   \n",
       "170                   3                                    NICK FURY   \n",
       "171                   2  NICK FURY THE TESSERACT IS WHERE IT BELONGS   \n",
       "\n",
       "           Type weight  \n",
       "0    Undirected      1  \n",
       "1    Undirected     10  \n",
       "2    Undirected      1  \n",
       "3    Undirected      5  \n",
       "4    Undirected      1  \n",
       "..          ...    ...  \n",
       "167  Undirected      1  \n",
       "168  Undirected      1  \n",
       "169  Undirected      1  \n",
       "170  Undirected      1  \n",
       "171  Undirected      1  \n",
       "\n",
       "[172 rows x 4 columns]"
      ]
     },
     "execution_count": 5,
     "metadata": {},
     "output_type": "execute_result"
    }
   ],
   "source": [
    "df = make_weight_df(script_by_scene=script_by_scene)\n",
    "df"
   ]
  },
  {
   "cell_type": "markdown",
   "metadata": {},
   "source": [
    "## 노드 (캐릭터) 명 전처리"
   ]
  },
  {
   "cell_type": "code",
   "execution_count": 6,
   "metadata": {
    "ExecuteTime": {
     "end_time": "2021-03-05T08:13:11.417796Z",
     "start_time": "2021-03-05T08:13:11.411235Z"
    },
    "scrolled": true
   },
   "outputs": [
    {
     "data": {
      "text/plain": [
       "{'1',\n",
       " '2',\n",
       " '3',\n",
       " 'AGENT JASPER SITWELL',\n",
       " 'AGENT JASPER SITWELL (O.S.)',\n",
       " 'AGENT JASPER SITWELL (V.O.)',\n",
       " 'AGENT MARIA HILL',\n",
       " 'AGENT MARIA HILL TURN UP THAT ENGINE! NUMBER 3 ENGINE IS',\n",
       " 'AGENT PHIL COULSON',\n",
       " 'ATTENDING WOMAN',\n",
       " 'BANNER',\n",
       " 'BANNER (COMING TO)',\n",
       " 'BARTON',\n",
       " 'BLACK WIDOW',\n",
       " 'BLACK WIDOW (V.O.)',\n",
       " 'BRUCE',\n",
       " 'CAPTAIN AMERICA',\n",
       " 'CAPTAIN AMERICA (V.O.)',\n",
       " 'CLINT',\n",
       " 'CLINT BARTON',\n",
       " 'COULSON',\n",
       " 'COUNCIL MEMBER 1',\n",
       " 'COUNCIL MEMBER 2',\n",
       " 'CUT TO',\n",
       " 'DR. ERIK SELVIG',\n",
       " 'ELDER GERMAN MAN',\n",
       " 'ESCORT 0-6 PILOT (V.O.)',\n",
       " 'ESCORT 606 PILOT',\n",
       " 'FURY',\n",
       " 'GALAGA PLAYER',\n",
       " 'GENERAL LUCHKOV',\n",
       " 'HAWKEYE',\n",
       " 'HAWKEYE (V.O.)',\n",
       " 'HELMSMAN',\n",
       " 'HILL',\n",
       " 'HULK',\n",
       " 'IRON MAN',\n",
       " 'IRON MAN (V.O.)',\n",
       " 'JARVIS',\n",
       " 'LITTLE GIRL',\n",
       " 'LOKI',\n",
       " 'LOKI (V.O.)',\n",
       " 'LUCHKOV',\n",
       " 'NASA SCIENCETIST',\n",
       " 'NATASHA',\n",
       " 'NATASHA ROMANOFF',\n",
       " 'NICK FURY',\n",
       " 'NICK FURY (O.S.)',\n",
       " 'NICK FURY (V.O.)',\n",
       " 'NICK FURY THE TESSERACT IS WHERE IT BELONGS',\n",
       " 'OLD MAN (STAN LEE)',\n",
       " 'PEGGY CARTER',\n",
       " 'PEPPER',\n",
       " 'PEPPER POTTS',\n",
       " 'PILOT',\n",
       " 'POLICE SERGEANT',\n",
       " 'SECURITY GUARD',\n",
       " 'SELVIG',\n",
       " 'SENATOR BOYNTON',\n",
       " 'SHIELD AGENT (V.O.)',\n",
       " 'SHIELD BASE VOICE',\n",
       " 'SHIELD SCIENCETIST',\n",
       " 'SITWELL',\n",
       " 'STEVE',\n",
       " 'STEVE (V.O.)',\n",
       " 'THE OTHER',\n",
       " 'THOR',\n",
       " 'TONY',\n",
       " 'TONY ',\n",
       " \"TONY (CONT'D) (TO THOR)\",\n",
       " 'TONY (V.O.)',\n",
       " 'TONY OF COURSE THEY ARE, I WAS DIRECTLY INVOLVED. WHICH BRINGS ME TO MY NEXT QUESTION',\n",
       " 'WAITRESS',\n",
       " 'WEASELY THUG',\n",
       " 'YOUNG COP',\n",
       " 'YOUNG SHIELD PILOT',\n",
       " '[TIGHT ON IRON MAN'}"
      ]
     },
     "execution_count": 6,
     "metadata": {},
     "output_type": "execute_result"
    }
   ],
   "source": [
    "set(list(df.Source.unique()) + list(df.Target.unique()))"
   ]
  },
  {
   "cell_type": "code",
   "execution_count": 7,
   "metadata": {
    "ExecuteTime": {
     "end_time": "2021-03-05T08:13:11.424104Z",
     "start_time": "2021-03-05T08:13:11.419735Z"
    }
   },
   "outputs": [],
   "source": [
    "# 동일한 인물명 지정\n",
    "synonyms = {\n",
    "    'AGENT JASPER SITWELL': 'SITWELL', \n",
    "    'AGENT MARIA HILL': 'MARIA HILL',\n",
    "    'AGENT MARIA HILL TURN UP THAT ENGINE! NUMBER  ENGINE IS': \"MARIA HILL\",\n",
    "    'AGENT PHIL COULSON': 'COULSON',\n",
    "    'BARTON': 'HAWKEYE',\n",
    "    'CLINT': 'HAWKEYE',\n",
    "    'CLINT BARTON': 'HAWKEYE',\n",
    "    'BANNER': 'BRUCE BANNER',\n",
    "    'BRUCE': 'BRUCE BANNER',\n",
    "    'NATASHA': 'BLACK WIDOW',\n",
    "    'NATASHA ROMANOFF': 'BLACK WIDOW',\n",
    "    'STEVE': 'CAPTAIN AMERICA',\n",
    "    'Dr. ERIK SELVIG': 'SELVIG',\n",
    "    'DR. ERIK SELVIG': \"SELVIG\",\n",
    "    'NICK FURY THE TESSERACT IS WHERE IT BELONGS': \"NICK FURY\",\n",
    "    'FURY': 'NICK FURY',\n",
    "    'TONY': 'IRON MAN',\n",
    "    'TONY OF COURSE THEY ARE, I WAS DIRECTLY INVOLVED. WHICH BRINGS ME TO MY NEXT QUESTION': \"IRON MAN\",\n",
    "    '[TIGHT ON IRON MAN': \"IRON MAN\",\n",
    "    'PEPPER POTTS': 'PEPPER',\n",
    "    'Loki': 'LOKI'\n",
    "}"
   ]
  },
  {
   "cell_type": "code",
   "execution_count": 8,
   "metadata": {
    "ExecuteTime": {
     "end_time": "2021-03-05T08:13:11.466913Z",
     "start_time": "2021-03-05T08:13:11.428325Z"
    }
   },
   "outputs": [],
   "source": [
    "# 캐릭터명 아닌 것 정리\n",
    "df.Source = df.Source.apply(lambda x: re.sub(r\"\\([\\w\\W]*\\)\", \"\", x))\n",
    "df.Source = df.Source.apply(lambda x: re.sub(r'CUT TO', \"\", x))\n",
    "df.Source = df.Source.apply(lambda x: re.sub(r'1', \"\", x))\n",
    "df.Source = df.Source.apply(lambda x: re.sub(r'2', \"\", x))\n",
    "df.Source = df.Source.apply(lambda x: re.sub(r'3', \"\", x))\n",
    "\n",
    "df.Target = df.Target.apply(lambda x: re.sub(r\"\\([\\w\\W]*\\)\", \"\", x))\n",
    "df.Target = df.Target.apply(lambda x: re.sub(r'CUT TO', \"\", x))\n",
    "df.Target = df.Target.apply(lambda x: re.sub(r'1', \"\", x))\n",
    "df.Target = df.Target.apply(lambda x: re.sub(r'2', \"\", x))\n",
    "df.Target = df.Target.apply(lambda x: re.sub(r'3', \"\", x))\n",
    "\n",
    "\n",
    "# 캐릭터 명 통일\n",
    "df.Source = df.Source.apply(lambda x: x.strip())\n",
    "df.Target = df.Target.apply(lambda x: x.strip())\n",
    "\n",
    "for index, row in df.iterrows():\n",
    "    if row.Source in synonyms:\n",
    "        row.Source = synonyms[row.Source]\n",
    "        \n",
    "    if row.Target in synonyms:\n",
    "        row.Target = synonyms[row.Target]"
   ]
  },
  {
   "cell_type": "code",
   "execution_count": 9,
   "metadata": {
    "ExecuteTime": {
     "end_time": "2021-03-05T08:13:11.474484Z",
     "start_time": "2021-03-05T08:13:11.470021Z"
    }
   },
   "outputs": [
    {
     "data": {
      "text/plain": [
       "{'',\n",
       " 'ATTENDING WOMAN',\n",
       " 'BLACK WIDOW',\n",
       " 'BRUCE BANNER',\n",
       " 'CAPTAIN AMERICA',\n",
       " 'COULSON',\n",
       " 'COUNCIL MEMBER',\n",
       " 'ELDER GERMAN MAN',\n",
       " 'ESCORT 0-6 PILOT',\n",
       " 'ESCORT 606 PILOT',\n",
       " 'GALAGA PLAYER',\n",
       " 'GENERAL LUCHKOV',\n",
       " 'HAWKEYE',\n",
       " 'HELMSMAN',\n",
       " 'HILL',\n",
       " 'HULK',\n",
       " 'IRON MAN',\n",
       " 'JARVIS',\n",
       " 'LITTLE GIRL',\n",
       " 'LOKI',\n",
       " 'LUCHKOV',\n",
       " 'MARIA HILL',\n",
       " 'NASA SCIENCETIST',\n",
       " 'NICK FURY',\n",
       " 'OLD MAN',\n",
       " 'PEGGY CARTER',\n",
       " 'PEPPER',\n",
       " 'PILOT',\n",
       " 'POLICE SERGEANT',\n",
       " 'SECURITY GUARD',\n",
       " 'SELVIG',\n",
       " 'SENATOR BOYNTON',\n",
       " 'SHIELD AGENT',\n",
       " 'SHIELD BASE VOICE',\n",
       " 'SHIELD SCIENCETIST',\n",
       " 'SITWELL',\n",
       " 'THE OTHER',\n",
       " 'THOR',\n",
       " 'WAITRESS',\n",
       " 'WEASELY THUG',\n",
       " 'YOUNG COP',\n",
       " 'YOUNG SHIELD PILOT'}"
      ]
     },
     "execution_count": 9,
     "metadata": {},
     "output_type": "execute_result"
    }
   ],
   "source": [
    "set(list(df.Source.unique()) + list(df.Target.unique()))"
   ]
  },
  {
   "cell_type": "markdown",
   "metadata": {},
   "source": [
    "## 추가 전처리"
   ]
  },
  {
   "cell_type": "code",
   "execution_count": 10,
   "metadata": {
    "ExecuteTime": {
     "end_time": "2021-03-05T08:13:11.662811Z",
     "start_time": "2021-03-05T08:13:11.476235Z"
    }
   },
   "outputs": [
    {
     "name": "stdout",
     "output_type": "stream",
     "text": [
      "(56, 5)\n"
     ]
    },
    {
     "name": "stderr",
     "output_type": "stream",
     "text": [
      "/Users/dongwook/opt/anaconda3/lib/python3.8/site-packages/pandas/core/frame.py:3990: SettingWithCopyWarning: \n",
      "A value is trying to be set on a copy of a slice from a DataFrame\n",
      "\n",
      "See the caveats in the documentation: https://pandas.pydata.org/pandas-docs/stable/user_guide/indexing.html#returning-a-view-versus-a-copy\n",
      "  return super().drop(\n"
     ]
    },
    {
     "data": {
      "text/html": [
       "<div>\n",
       "<style scoped>\n",
       "    .dataframe tbody tr th:only-of-type {\n",
       "        vertical-align: middle;\n",
       "    }\n",
       "\n",
       "    .dataframe tbody tr th {\n",
       "        vertical-align: top;\n",
       "    }\n",
       "\n",
       "    .dataframe thead th {\n",
       "        text-align: right;\n",
       "    }\n",
       "</style>\n",
       "<table border=\"1\" class=\"dataframe\">\n",
       "  <thead>\n",
       "    <tr style=\"text-align: right;\">\n",
       "      <th></th>\n",
       "      <th>Source</th>\n",
       "      <th>Target</th>\n",
       "      <th>Type</th>\n",
       "      <th>weight</th>\n",
       "      <th>series</th>\n",
       "    </tr>\n",
       "  </thead>\n",
       "  <tbody>\n",
       "    <tr>\n",
       "      <th>0</th>\n",
       "      <td>CAPTAIN AMERICA</td>\n",
       "      <td>BLACK WIDOW</td>\n",
       "      <td>Undirected</td>\n",
       "      <td>29</td>\n",
       "      <td>1</td>\n",
       "    </tr>\n",
       "    <tr>\n",
       "      <th>1</th>\n",
       "      <td>THOR</td>\n",
       "      <td>LOKI</td>\n",
       "      <td>Undirected</td>\n",
       "      <td>28</td>\n",
       "      <td>1</td>\n",
       "    </tr>\n",
       "    <tr>\n",
       "      <th>2</th>\n",
       "      <td>NICK FURY</td>\n",
       "      <td>CAPTAIN AMERICA</td>\n",
       "      <td>Undirected</td>\n",
       "      <td>22</td>\n",
       "      <td>1</td>\n",
       "    </tr>\n",
       "    <tr>\n",
       "      <th>3</th>\n",
       "      <td>NICK FURY</td>\n",
       "      <td>LOKI</td>\n",
       "      <td>Undirected</td>\n",
       "      <td>15</td>\n",
       "      <td>1</td>\n",
       "    </tr>\n",
       "    <tr>\n",
       "      <th>4</th>\n",
       "      <td>CAPTAIN AMERICA</td>\n",
       "      <td>THOR</td>\n",
       "      <td>Undirected</td>\n",
       "      <td>15</td>\n",
       "      <td>1</td>\n",
       "    </tr>\n",
       "  </tbody>\n",
       "</table>\n",
       "</div>"
      ],
      "text/plain": [
       "            Source           Target        Type weight  series\n",
       "0  CAPTAIN AMERICA      BLACK WIDOW  Undirected     29       1\n",
       "1             THOR             LOKI  Undirected     28       1\n",
       "2        NICK FURY  CAPTAIN AMERICA  Undirected     22       1\n",
       "3        NICK FURY             LOKI  Undirected     15       1\n",
       "4  CAPTAIN AMERICA             THOR  Undirected     15       1"
      ]
     },
     "execution_count": 10,
     "metadata": {},
     "output_type": "execute_result"
    }
   ],
   "source": [
    "avengers_1 = preprocess(df=df, series_no=1)\n",
    "\n",
    "print(avengers_1.shape)\n",
    "avengers_1.head()"
   ]
  },
  {
   "cell_type": "code",
   "execution_count": 11,
   "metadata": {
    "ExecuteTime": {
     "end_time": "2021-03-05T08:13:11.672375Z",
     "start_time": "2021-03-05T08:13:11.664282Z"
    }
   },
   "outputs": [
    {
     "data": {
      "text/html": [
       "<div>\n",
       "<style scoped>\n",
       "    .dataframe tbody tr th:only-of-type {\n",
       "        vertical-align: middle;\n",
       "    }\n",
       "\n",
       "    .dataframe tbody tr th {\n",
       "        vertical-align: top;\n",
       "    }\n",
       "\n",
       "    .dataframe thead th {\n",
       "        text-align: right;\n",
       "    }\n",
       "</style>\n",
       "<table border=\"1\" class=\"dataframe\">\n",
       "  <thead>\n",
       "    <tr style=\"text-align: right;\">\n",
       "      <th></th>\n",
       "      <th>Source</th>\n",
       "      <th>Target</th>\n",
       "      <th>Type</th>\n",
       "      <th>weight</th>\n",
       "      <th>series</th>\n",
       "    </tr>\n",
       "  </thead>\n",
       "  <tbody>\n",
       "    <tr>\n",
       "      <th>0</th>\n",
       "      <td>CAPTAIN AMERICA</td>\n",
       "      <td>BLACK WIDOW</td>\n",
       "      <td>Undirected</td>\n",
       "      <td>29</td>\n",
       "      <td>1</td>\n",
       "    </tr>\n",
       "    <tr>\n",
       "      <th>4</th>\n",
       "      <td>CAPTAIN AMERICA</td>\n",
       "      <td>THOR</td>\n",
       "      <td>Undirected</td>\n",
       "      <td>15</td>\n",
       "      <td>1</td>\n",
       "    </tr>\n",
       "    <tr>\n",
       "      <th>11</th>\n",
       "      <td>CAPTAIN AMERICA</td>\n",
       "      <td>COULSON</td>\n",
       "      <td>Undirected</td>\n",
       "      <td>10</td>\n",
       "      <td>1</td>\n",
       "    </tr>\n",
       "    <tr>\n",
       "      <th>15</th>\n",
       "      <td>CAPTAIN AMERICA</td>\n",
       "      <td>HAWKEYE</td>\n",
       "      <td>Undirected</td>\n",
       "      <td>8</td>\n",
       "      <td>1</td>\n",
       "    </tr>\n",
       "    <tr>\n",
       "      <th>34</th>\n",
       "      <td>CAPTAIN AMERICA</td>\n",
       "      <td>POLICE SERGEANT</td>\n",
       "      <td>Undirected</td>\n",
       "      <td>1</td>\n",
       "      <td>1</td>\n",
       "    </tr>\n",
       "    <tr>\n",
       "      <th>49</th>\n",
       "      <td>CAPTAIN AMERICA</td>\n",
       "      <td>PEGGY CARTER</td>\n",
       "      <td>Undirected</td>\n",
       "      <td>1</td>\n",
       "      <td>1</td>\n",
       "    </tr>\n",
       "  </tbody>\n",
       "</table>\n",
       "</div>"
      ],
      "text/plain": [
       "             Source           Target        Type weight  series\n",
       "0   CAPTAIN AMERICA      BLACK WIDOW  Undirected     29       1\n",
       "4   CAPTAIN AMERICA             THOR  Undirected     15       1\n",
       "11  CAPTAIN AMERICA          COULSON  Undirected     10       1\n",
       "15  CAPTAIN AMERICA          HAWKEYE  Undirected      8       1\n",
       "34  CAPTAIN AMERICA  POLICE SERGEANT  Undirected      1       1\n",
       "49  CAPTAIN AMERICA     PEGGY CARTER  Undirected      1       1"
      ]
     },
     "execution_count": 11,
     "metadata": {},
     "output_type": "execute_result"
    }
   ],
   "source": [
    "avengers_1[avengers_1.Source == \"CAPTAIN AMERICA\"]"
   ]
  },
  {
   "cell_type": "code",
   "execution_count": 12,
   "metadata": {
    "ExecuteTime": {
     "end_time": "2021-03-05T08:13:11.681615Z",
     "start_time": "2021-03-05T08:13:11.673836Z"
    }
   },
   "outputs": [
    {
     "data": {
      "text/html": [
       "<div>\n",
       "<style scoped>\n",
       "    .dataframe tbody tr th:only-of-type {\n",
       "        vertical-align: middle;\n",
       "    }\n",
       "\n",
       "    .dataframe tbody tr th {\n",
       "        vertical-align: top;\n",
       "    }\n",
       "\n",
       "    .dataframe thead th {\n",
       "        text-align: right;\n",
       "    }\n",
       "</style>\n",
       "<table border=\"1\" class=\"dataframe\">\n",
       "  <thead>\n",
       "    <tr style=\"text-align: right;\">\n",
       "      <th></th>\n",
       "      <th>Source</th>\n",
       "      <th>Target</th>\n",
       "      <th>Type</th>\n",
       "      <th>weight</th>\n",
       "      <th>series</th>\n",
       "    </tr>\n",
       "  </thead>\n",
       "  <tbody>\n",
       "    <tr>\n",
       "      <th>2</th>\n",
       "      <td>NICK FURY</td>\n",
       "      <td>CAPTAIN AMERICA</td>\n",
       "      <td>Undirected</td>\n",
       "      <td>22</td>\n",
       "      <td>1</td>\n",
       "    </tr>\n",
       "    <tr>\n",
       "      <th>35</th>\n",
       "      <td>YOUNG COP</td>\n",
       "      <td>CAPTAIN AMERICA</td>\n",
       "      <td>Undirected</td>\n",
       "      <td>1</td>\n",
       "      <td>1</td>\n",
       "    </tr>\n",
       "    <tr>\n",
       "      <th>44</th>\n",
       "      <td>PILOT</td>\n",
       "      <td>CAPTAIN AMERICA</td>\n",
       "      <td>Undirected</td>\n",
       "      <td>1</td>\n",
       "      <td>1</td>\n",
       "    </tr>\n",
       "  </tbody>\n",
       "</table>\n",
       "</div>"
      ],
      "text/plain": [
       "       Source           Target        Type weight  series\n",
       "2   NICK FURY  CAPTAIN AMERICA  Undirected     22       1\n",
       "35  YOUNG COP  CAPTAIN AMERICA  Undirected      1       1\n",
       "44      PILOT  CAPTAIN AMERICA  Undirected      1       1"
      ]
     },
     "execution_count": 12,
     "metadata": {},
     "output_type": "execute_result"
    }
   ],
   "source": [
    "avengers_1[avengers_1.Target == \"CAPTAIN AMERICA\"]"
   ]
  },
  {
   "cell_type": "markdown",
   "metadata": {},
   "source": [
    "# 어벤져스 2편 (에이지 오브 울트론)"
   ]
  },
  {
   "cell_type": "markdown",
   "metadata": {},
   "source": [
    "## 데이터 불러오기"
   ]
  },
  {
   "cell_type": "code",
   "execution_count": 13,
   "metadata": {
    "ExecuteTime": {
     "end_time": "2021-03-05T08:13:11.686342Z",
     "start_time": "2021-03-05T08:13:11.683115Z"
    }
   },
   "outputs": [],
   "source": [
    "path = \"./Data/Avengers2.txt\"\n",
    "\n",
    "script_by_scene = get_script_by_scene(path=path)"
   ]
  },
  {
   "cell_type": "code",
   "execution_count": 14,
   "metadata": {
    "ExecuteTime": {
     "end_time": "2021-03-05T08:13:11.690761Z",
     "start_time": "2021-03-05T08:13:11.687924Z"
    }
   },
   "outputs": [
    {
     "data": {
      "text/plain": [
       "41"
      ]
     },
     "execution_count": 14,
     "metadata": {},
     "output_type": "execute_result"
    }
   ],
   "source": [
    "len(script_by_scene)"
   ]
  },
  {
   "cell_type": "code",
   "execution_count": 15,
   "metadata": {
    "ExecuteTime": {
     "end_time": "2021-03-05T08:13:11.695765Z",
     "start_time": "2021-03-05T08:13:11.692273Z"
    }
   },
   "outputs": [
    {
     "data": {
      "text/plain": [
       "[' 01',\n",
       " 'iron man: Shit!',\n",
       " \"captain america : Language! JARVIS, what's the view from upstairs?\",\n",
       " \"JARVIS: The central building is protected by some kind of energy shield. Strucker's technology is well beyond any other Hydra base we've taken.\",\n",
       " \"Thor: Loki's scepter must be here. Strucker couldn't mount this defense without it. At long last.\",\n",
       " '[Natasha knocks out some soldiers]',\n",
       " 'black widow: At long last is lasting a little long, boys.',\n",
       " '[As some soldiers shoot at him]',\n",
       " 'hawkeye: Yeah. I think we lost the element of surprise.',\n",
       " 'iron man: Wait a second. No one else is going to deal with the fact that Cap just said \"language?\"',\n",
       " 'captain america: I know.',\n",
       " '[Steve throws his bike at some soldiers driving up in their truck]',\n",
       " 'cap: It just slipped out.',\n",
       " '']"
      ]
     },
     "execution_count": 15,
     "metadata": {},
     "output_type": "execute_result"
    }
   ],
   "source": [
    "script_by_scene[1].split(\"\\n\")"
   ]
  },
  {
   "cell_type": "markdown",
   "metadata": {},
   "source": [
    "## 가중치 데이터프레임 생성"
   ]
  },
  {
   "cell_type": "code",
   "execution_count": 16,
   "metadata": {
    "ExecuteTime": {
     "end_time": "2021-03-05T08:13:14.540697Z",
     "start_time": "2021-03-05T08:13:11.697336Z"
    }
   },
   "outputs": [
    {
     "data": {
      "text/html": [
       "<div>\n",
       "<style scoped>\n",
       "    .dataframe tbody tr th:only-of-type {\n",
       "        vertical-align: middle;\n",
       "    }\n",
       "\n",
       "    .dataframe tbody tr th {\n",
       "        vertical-align: top;\n",
       "    }\n",
       "\n",
       "    .dataframe thead th {\n",
       "        text-align: right;\n",
       "    }\n",
       "</style>\n",
       "<table border=\"1\" class=\"dataframe\">\n",
       "  <thead>\n",
       "    <tr style=\"text-align: right;\">\n",
       "      <th></th>\n",
       "      <th>Source</th>\n",
       "      <th>Target</th>\n",
       "      <th>Type</th>\n",
       "      <th>weight</th>\n",
       "    </tr>\n",
       "  </thead>\n",
       "  <tbody>\n",
       "    <tr>\n",
       "      <th>0</th>\n",
       "      <td>IRON MAN</td>\n",
       "      <td>CAPTAIN AMERICA</td>\n",
       "      <td>Undirected</td>\n",
       "      <td>1</td>\n",
       "    </tr>\n",
       "    <tr>\n",
       "      <th>1</th>\n",
       "      <td>CAPTAIN AMERICA</td>\n",
       "      <td>JARVIS</td>\n",
       "      <td>Undirected</td>\n",
       "      <td>1</td>\n",
       "    </tr>\n",
       "    <tr>\n",
       "      <th>2</th>\n",
       "      <td>JARVIS</td>\n",
       "      <td>THOR</td>\n",
       "      <td>Undirected</td>\n",
       "      <td>1</td>\n",
       "    </tr>\n",
       "    <tr>\n",
       "      <th>3</th>\n",
       "      <td>THOR</td>\n",
       "      <td>BLACK WIDOW</td>\n",
       "      <td>Undirected</td>\n",
       "      <td>1</td>\n",
       "    </tr>\n",
       "    <tr>\n",
       "      <th>4</th>\n",
       "      <td>BLACK WIDOW</td>\n",
       "      <td>HAWKEYE</td>\n",
       "      <td>Undirected</td>\n",
       "      <td>1</td>\n",
       "    </tr>\n",
       "    <tr>\n",
       "      <th>...</th>\n",
       "      <td>...</td>\n",
       "      <td>...</td>\n",
       "      <td>...</td>\n",
       "      <td>...</td>\n",
       "    </tr>\n",
       "    <tr>\n",
       "      <th>165</th>\n",
       "      <td>WANDA MAXIMOFF</td>\n",
       "      <td>WANDA MAXIMOFF</td>\n",
       "      <td>Undirected</td>\n",
       "      <td>1</td>\n",
       "    </tr>\n",
       "    <tr>\n",
       "      <th>166</th>\n",
       "      <td>WANDA MAXIMOFF</td>\n",
       "      <td>FRIDAY</td>\n",
       "      <td>Undirected</td>\n",
       "      <td>1</td>\n",
       "    </tr>\n",
       "    <tr>\n",
       "      <th>167</th>\n",
       "      <td>NATASHA ROMANOFF</td>\n",
       "      <td>ZRINKA</td>\n",
       "      <td>Undirected</td>\n",
       "      <td>1</td>\n",
       "    </tr>\n",
       "    <tr>\n",
       "      <th>168</th>\n",
       "      <td>ZRINKA</td>\n",
       "      <td>TONY STARK</td>\n",
       "      <td>Undirected</td>\n",
       "      <td>1</td>\n",
       "    </tr>\n",
       "    <tr>\n",
       "      <th>169</th>\n",
       "      <td>NATASHA ROMANOFF</td>\n",
       "      <td>VISION</td>\n",
       "      <td>Undirected</td>\n",
       "      <td>1</td>\n",
       "    </tr>\n",
       "  </tbody>\n",
       "</table>\n",
       "<p>170 rows × 4 columns</p>\n",
       "</div>"
      ],
      "text/plain": [
       "               Source            Target        Type weight\n",
       "0            IRON MAN  CAPTAIN AMERICA   Undirected      1\n",
       "1    CAPTAIN AMERICA             JARVIS  Undirected      1\n",
       "2              JARVIS              THOR  Undirected      1\n",
       "3                THOR       BLACK WIDOW  Undirected      1\n",
       "4         BLACK WIDOW           HAWKEYE  Undirected      1\n",
       "..                ...               ...         ...    ...\n",
       "165    WANDA MAXIMOFF    WANDA MAXIMOFF  Undirected      1\n",
       "166    WANDA MAXIMOFF            FRIDAY  Undirected      1\n",
       "167  NATASHA ROMANOFF            ZRINKA  Undirected      1\n",
       "168            ZRINKA        TONY STARK  Undirected      1\n",
       "169  NATASHA ROMANOFF            VISION  Undirected      1\n",
       "\n",
       "[170 rows x 4 columns]"
      ]
     },
     "execution_count": 16,
     "metadata": {},
     "output_type": "execute_result"
    }
   ],
   "source": [
    "df = make_weight_df(script_by_scene=script_by_scene)\n",
    "df"
   ]
  },
  {
   "cell_type": "markdown",
   "metadata": {},
   "source": [
    "## 노드 (캐릭터) 명 전처리"
   ]
  },
  {
   "cell_type": "code",
   "execution_count": 17,
   "metadata": {
    "ExecuteTime": {
     "end_time": "2021-03-05T08:13:14.547131Z",
     "start_time": "2021-03-05T08:13:14.543489Z"
    }
   },
   "outputs": [],
   "source": [
    "# 동일한 인물명 지정\n",
    "synonyms = {\n",
    "    'BRUCE': \"BRUCE BANNER\",\n",
    "    'CAP': 'CAPTAIN AMERICA',\n",
    "    'CLINT BARTON': 'HAWKEYE',\n",
    "    'FRIDAY RIGHT NOW THE IMPACT WOULD KILL THOUSANDS. ONCE IT GETS HIGH ENOUGH': \"FRIDAY\",\n",
    "    \"FRIDAY THERE'S THE REST OF THE VIBRANIUM. FUNCTION\": \"FRIDAY\",\n",
    "    'STEVE': 'CAPTAIN AMERICA',\n",
    "    'STEVE ROGERS': 'CAPTAIN AMERICA',\n",
    "    'STEVE ROGERS INCOMING ALREADY CAME IN. STARK, YOU WORRY ABOUT BRINGING THE CITY BACK DOWN SAFELY. THE REST OF US HAVE ONE JOB': 'CAPTAIN AMERICA',\n",
    "    \"THOR'\": \"THOR\",\n",
    "    'TONY': \"IRON MAN\",\n",
    "    'TONY STARK': \"IRON MAN\",\n",
    "    'TONY STARK NEWS OR FOOTAGE, KEYWORD': \"IRON MAN\",\n",
    "    \"ULTRON THAT WAS DRAMATIC! I'M SORRY, I KNOW YOU MEAN WELL. YOU JUST DIDN'T THINK IT THROUGH. YOU WANT TO PROTECT THE WORLD, BUT YOU DON'T WANT IT TO CHANGE. HOW IS HUMANITY SAVED IF IT'S NOT ALLOWED TO...EVOLVE? [PICKS UP ONE OF THE DISMEMBERED IRON LEGIONS] WITH THESE? THESE PUPPETS? THERE'S ONLY ONE PATH TO PEACE\": \"ULTRON\",\n",
    "    'NATASHA ROMANOFF': 'BLACK WIDOW',\n",
    "    'NAT': 'BLACK WIDOW',\n",
    "    \"SAM WILSON\": \"FALCON\",\n",
    "    'ERIK SELVIG': \"SELVIG\"\n",
    "}"
   ]
  },
  {
   "cell_type": "code",
   "execution_count": 18,
   "metadata": {
    "ExecuteTime": {
     "end_time": "2021-03-05T08:13:14.574989Z",
     "start_time": "2021-03-05T08:13:14.548685Z"
    }
   },
   "outputs": [],
   "source": [
    "# 캐릭터 명 통일\n",
    "df.Source = df.Source.apply(lambda x: x.strip())\n",
    "df.Target = df.Target.apply(lambda x: x.strip())\n",
    "\n",
    "for index, row in df.iterrows():\n",
    "    if row.Source in synonyms:\n",
    "        row.Source = synonyms[row.Source]\n",
    "        \n",
    "    if row.Target in synonyms:\n",
    "        row.Target = synonyms[row.Target]"
   ]
  },
  {
   "cell_type": "code",
   "execution_count": 19,
   "metadata": {
    "ExecuteTime": {
     "end_time": "2021-03-05T08:13:14.581974Z",
     "start_time": "2021-03-05T08:13:14.577007Z"
    }
   },
   "outputs": [
    {
     "data": {
      "text/plain": [
       "{'BALLET INSTRUCTOR',\n",
       " \"BARTON'S DAUGHTER\",\n",
       " 'BLACK WIDOW',\n",
       " 'BRUCE BANNER',\n",
       " 'CAPTAIN AMERICA',\n",
       " 'DR. HELEN CHO',\n",
       " 'DR. LIST',\n",
       " 'FALCON',\n",
       " 'FORTRESS SOLDIER',\n",
       " 'FRIDAY',\n",
       " 'HAWKEYE',\n",
       " 'HEIMDALL',\n",
       " 'IRON LEGION',\n",
       " 'IRON MAN',\n",
       " 'JAMES RHODES',\n",
       " 'JARVIS',\n",
       " \"KLAUE'S MERCENARY\",\n",
       " 'LAURA BARTON',\n",
       " 'LILA BARTON',\n",
       " 'MADAME B',\n",
       " 'MARIA HILL',\n",
       " 'NICK FURY',\n",
       " 'PARTY GUEST',\n",
       " 'PEGGY CARTER',\n",
       " 'PIETRO MAXIMOFF',\n",
       " 'SELVIG',\n",
       " 'SOLDIERS',\n",
       " 'SPECIALIST CAMERON KLEIN',\n",
       " 'STAN LEE',\n",
       " 'STRUCKER',\n",
       " 'THOR',\n",
       " 'ULTRON',\n",
       " 'ULYSSES KLAUE',\n",
       " 'VISION',\n",
       " 'WANDA MAXIMOFF',\n",
       " 'WORLD HUB TECH',\n",
       " 'ZRINKA'}"
      ]
     },
     "execution_count": 19,
     "metadata": {},
     "output_type": "execute_result"
    }
   ],
   "source": [
    "set(list(df.Source.unique()) + list(df.Target.unique()))"
   ]
  },
  {
   "cell_type": "markdown",
   "metadata": {},
   "source": [
    "## 추가 전처리"
   ]
  },
  {
   "cell_type": "code",
   "execution_count": 20,
   "metadata": {
    "ExecuteTime": {
     "end_time": "2021-03-05T08:13:14.737525Z",
     "start_time": "2021-03-05T08:13:14.583615Z"
    }
   },
   "outputs": [
    {
     "name": "stdout",
     "output_type": "stream",
     "text": [
      "(114, 5)\n"
     ]
    },
    {
     "name": "stderr",
     "output_type": "stream",
     "text": [
      "/Users/dongwook/opt/anaconda3/lib/python3.8/site-packages/pandas/core/frame.py:3990: SettingWithCopyWarning: \n",
      "A value is trying to be set on a copy of a slice from a DataFrame\n",
      "\n",
      "See the caveats in the documentation: https://pandas.pydata.org/pandas-docs/stable/user_guide/indexing.html#returning-a-view-versus-a-copy\n",
      "  return super().drop(\n"
     ]
    },
    {
     "data": {
      "text/html": [
       "<div>\n",
       "<style scoped>\n",
       "    .dataframe tbody tr th:only-of-type {\n",
       "        vertical-align: middle;\n",
       "    }\n",
       "\n",
       "    .dataframe tbody tr th {\n",
       "        vertical-align: top;\n",
       "    }\n",
       "\n",
       "    .dataframe thead th {\n",
       "        text-align: right;\n",
       "    }\n",
       "</style>\n",
       "<table border=\"1\" class=\"dataframe\">\n",
       "  <thead>\n",
       "    <tr style=\"text-align: right;\">\n",
       "      <th></th>\n",
       "      <th>Source</th>\n",
       "      <th>Target</th>\n",
       "      <th>Type</th>\n",
       "      <th>weight</th>\n",
       "      <th>series</th>\n",
       "    </tr>\n",
       "  </thead>\n",
       "  <tbody>\n",
       "    <tr>\n",
       "      <th>0</th>\n",
       "      <td>IRON MAN</td>\n",
       "      <td>BRUCE BANNER</td>\n",
       "      <td>Undirected</td>\n",
       "      <td>56</td>\n",
       "      <td>2</td>\n",
       "    </tr>\n",
       "    <tr>\n",
       "      <th>1</th>\n",
       "      <td>BLACK WIDOW</td>\n",
       "      <td>CAPTAIN AMERICA</td>\n",
       "      <td>Undirected</td>\n",
       "      <td>27</td>\n",
       "      <td>2</td>\n",
       "    </tr>\n",
       "    <tr>\n",
       "      <th>2</th>\n",
       "      <td>HAWKEYE</td>\n",
       "      <td>LAURA BARTON</td>\n",
       "      <td>Undirected</td>\n",
       "      <td>23</td>\n",
       "      <td>2</td>\n",
       "    </tr>\n",
       "    <tr>\n",
       "      <th>3</th>\n",
       "      <td>IRON MAN</td>\n",
       "      <td>NICK FURY</td>\n",
       "      <td>Undirected</td>\n",
       "      <td>22</td>\n",
       "      <td>2</td>\n",
       "    </tr>\n",
       "    <tr>\n",
       "      <th>4</th>\n",
       "      <td>THOR</td>\n",
       "      <td>CAPTAIN AMERICA</td>\n",
       "      <td>Undirected</td>\n",
       "      <td>21</td>\n",
       "      <td>2</td>\n",
       "    </tr>\n",
       "  </tbody>\n",
       "</table>\n",
       "</div>"
      ],
      "text/plain": [
       "        Source           Target        Type weight  series\n",
       "0     IRON MAN     BRUCE BANNER  Undirected     56       2\n",
       "1  BLACK WIDOW  CAPTAIN AMERICA  Undirected     27       2\n",
       "2      HAWKEYE     LAURA BARTON  Undirected     23       2\n",
       "3     IRON MAN        NICK FURY  Undirected     22       2\n",
       "4         THOR  CAPTAIN AMERICA  Undirected     21       2"
      ]
     },
     "execution_count": 20,
     "metadata": {},
     "output_type": "execute_result"
    }
   ],
   "source": [
    "avengers_2 = preprocess(df=df, series_no=2)\n",
    "\n",
    "print(avengers_2.shape)\n",
    "avengers_2.head()"
   ]
  },
  {
   "cell_type": "code",
   "execution_count": 21,
   "metadata": {
    "ExecuteTime": {
     "end_time": "2021-03-05T08:13:14.748014Z",
     "start_time": "2021-03-05T08:13:14.739317Z"
    }
   },
   "outputs": [
    {
     "data": {
      "text/html": [
       "<div>\n",
       "<style scoped>\n",
       "    .dataframe tbody tr th:only-of-type {\n",
       "        vertical-align: middle;\n",
       "    }\n",
       "\n",
       "    .dataframe tbody tr th {\n",
       "        vertical-align: top;\n",
       "    }\n",
       "\n",
       "    .dataframe thead th {\n",
       "        text-align: right;\n",
       "    }\n",
       "</style>\n",
       "<table border=\"1\" class=\"dataframe\">\n",
       "  <thead>\n",
       "    <tr style=\"text-align: right;\">\n",
       "      <th></th>\n",
       "      <th>Source</th>\n",
       "      <th>Target</th>\n",
       "      <th>Type</th>\n",
       "      <th>weight</th>\n",
       "      <th>series</th>\n",
       "    </tr>\n",
       "  </thead>\n",
       "  <tbody>\n",
       "    <tr>\n",
       "      <th>5</th>\n",
       "      <td>WANDA MAXIMOFF</td>\n",
       "      <td>ULTRON</td>\n",
       "      <td>Undirected</td>\n",
       "      <td>20</td>\n",
       "      <td>2</td>\n",
       "    </tr>\n",
       "    <tr>\n",
       "      <th>34</th>\n",
       "      <td>WANDA MAXIMOFF</td>\n",
       "      <td>HAWKEYE</td>\n",
       "      <td>Undirected</td>\n",
       "      <td>6</td>\n",
       "      <td>2</td>\n",
       "    </tr>\n",
       "    <tr>\n",
       "      <th>53</th>\n",
       "      <td>WANDA MAXIMOFF</td>\n",
       "      <td>BRUCE BANNER</td>\n",
       "      <td>Undirected</td>\n",
       "      <td>3</td>\n",
       "      <td>2</td>\n",
       "    </tr>\n",
       "    <tr>\n",
       "      <th>80</th>\n",
       "      <td>WANDA MAXIMOFF</td>\n",
       "      <td>FRIDAY</td>\n",
       "      <td>Undirected</td>\n",
       "      <td>1</td>\n",
       "      <td>2</td>\n",
       "    </tr>\n",
       "  </tbody>\n",
       "</table>\n",
       "</div>"
      ],
      "text/plain": [
       "            Source        Target        Type weight  series\n",
       "5   WANDA MAXIMOFF        ULTRON  Undirected     20       2\n",
       "34  WANDA MAXIMOFF       HAWKEYE  Undirected      6       2\n",
       "53  WANDA MAXIMOFF  BRUCE BANNER  Undirected      3       2\n",
       "80  WANDA MAXIMOFF        FRIDAY  Undirected      1       2"
      ]
     },
     "execution_count": 21,
     "metadata": {},
     "output_type": "execute_result"
    }
   ],
   "source": [
    "avengers_2[avengers_2.Source == \"WANDA MAXIMOFF\"]"
   ]
  },
  {
   "cell_type": "code",
   "execution_count": 22,
   "metadata": {
    "ExecuteTime": {
     "end_time": "2021-03-05T08:13:14.760588Z",
     "start_time": "2021-03-05T08:13:14.750346Z"
    }
   },
   "outputs": [
    {
     "data": {
      "text/html": [
       "<div>\n",
       "<style scoped>\n",
       "    .dataframe tbody tr th:only-of-type {\n",
       "        vertical-align: middle;\n",
       "    }\n",
       "\n",
       "    .dataframe tbody tr th {\n",
       "        vertical-align: top;\n",
       "    }\n",
       "\n",
       "    .dataframe thead th {\n",
       "        text-align: right;\n",
       "    }\n",
       "</style>\n",
       "<table border=\"1\" class=\"dataframe\">\n",
       "  <thead>\n",
       "    <tr style=\"text-align: right;\">\n",
       "      <th></th>\n",
       "      <th>Source</th>\n",
       "      <th>Target</th>\n",
       "      <th>Type</th>\n",
       "      <th>weight</th>\n",
       "      <th>series</th>\n",
       "    </tr>\n",
       "  </thead>\n",
       "  <tbody>\n",
       "    <tr>\n",
       "      <th>9</th>\n",
       "      <td>PIETRO MAXIMOFF</td>\n",
       "      <td>WANDA MAXIMOFF</td>\n",
       "      <td>Undirected</td>\n",
       "      <td>17</td>\n",
       "      <td>2</td>\n",
       "    </tr>\n",
       "    <tr>\n",
       "      <th>14</th>\n",
       "      <td>CAPTAIN AMERICA</td>\n",
       "      <td>WANDA MAXIMOFF</td>\n",
       "      <td>Undirected</td>\n",
       "      <td>13</td>\n",
       "      <td>2</td>\n",
       "    </tr>\n",
       "    <tr>\n",
       "      <th>44</th>\n",
       "      <td>VISION</td>\n",
       "      <td>WANDA MAXIMOFF</td>\n",
       "      <td>Undirected</td>\n",
       "      <td>3</td>\n",
       "      <td>2</td>\n",
       "    </tr>\n",
       "    <tr>\n",
       "      <th>49</th>\n",
       "      <td>IRON MAN</td>\n",
       "      <td>WANDA MAXIMOFF</td>\n",
       "      <td>Undirected</td>\n",
       "      <td>3</td>\n",
       "      <td>2</td>\n",
       "    </tr>\n",
       "    <tr>\n",
       "      <th>55</th>\n",
       "      <td>DR. HELEN CHO</td>\n",
       "      <td>WANDA MAXIMOFF</td>\n",
       "      <td>Undirected</td>\n",
       "      <td>3</td>\n",
       "      <td>2</td>\n",
       "    </tr>\n",
       "    <tr>\n",
       "      <th>72</th>\n",
       "      <td>ULYSSES KLAUE</td>\n",
       "      <td>WANDA MAXIMOFF</td>\n",
       "      <td>Undirected</td>\n",
       "      <td>2</td>\n",
       "      <td>2</td>\n",
       "    </tr>\n",
       "  </tbody>\n",
       "</table>\n",
       "</div>"
      ],
      "text/plain": [
       "             Source          Target        Type weight  series\n",
       "9   PIETRO MAXIMOFF  WANDA MAXIMOFF  Undirected     17       2\n",
       "14  CAPTAIN AMERICA  WANDA MAXIMOFF  Undirected     13       2\n",
       "44           VISION  WANDA MAXIMOFF  Undirected      3       2\n",
       "49         IRON MAN  WANDA MAXIMOFF  Undirected      3       2\n",
       "55    DR. HELEN CHO  WANDA MAXIMOFF  Undirected      3       2\n",
       "72    ULYSSES KLAUE  WANDA MAXIMOFF  Undirected      2       2"
      ]
     },
     "execution_count": 22,
     "metadata": {},
     "output_type": "execute_result"
    }
   ],
   "source": [
    "avengers_2[avengers_2.Target == \"WANDA MAXIMOFF\"]"
   ]
  },
  {
   "cell_type": "markdown",
   "metadata": {},
   "source": [
    "# 어벤져스 3편  (인피니티 워)"
   ]
  },
  {
   "cell_type": "markdown",
   "metadata": {},
   "source": [
    "## 데이터 불러오기"
   ]
  },
  {
   "cell_type": "code",
   "execution_count": 23,
   "metadata": {
    "ExecuteTime": {
     "end_time": "2021-03-05T08:13:14.769218Z",
     "start_time": "2021-03-05T08:13:14.765800Z"
    }
   },
   "outputs": [],
   "source": [
    "path = \"./Data/Avengers3.txt\"\n",
    "\n",
    "script_by_scene = get_script_by_scene(path=path)"
   ]
  },
  {
   "cell_type": "code",
   "execution_count": 24,
   "metadata": {
    "ExecuteTime": {
     "end_time": "2021-03-05T08:13:14.775205Z",
     "start_time": "2021-03-05T08:13:14.771899Z"
    }
   },
   "outputs": [
    {
     "data": {
      "text/plain": [
       "59"
      ]
     },
     "execution_count": 24,
     "metadata": {},
     "output_type": "execute_result"
    }
   ],
   "source": [
    "len(script_by_scene)"
   ]
  },
  {
   "cell_type": "code",
   "execution_count": 25,
   "metadata": {
    "ExecuteTime": {
     "end_time": "2021-03-05T08:13:14.780235Z",
     "start_time": "2021-03-05T08:13:14.776769Z"
    }
   },
   "outputs": [
    {
     "data": {
      "text/plain": [
       "['02',\n",
       " '[Doctor Strange, Master of the Mystic Arts, proceeds down the main steps of the Sanctum with Wong.]',\n",
       " \"Stephen Strange:\\xa0[Dressed in casual American clothes.]\\xa0Seriously? You don't have any money?\",\n",
       " 'Wong:\\xa0[Dressed as Wong is always dressed.]\\xa0Attachment to the material is detachment from\\xa0the spiritual.',\n",
       " \"Stephen Strange:\\xa0I'll tell the guys at the deli.\\xa0[Wryly]\\xa0Maybe they'll make you a metaphysical ham on\\xa0rye.\",\n",
       " 'Wong:\\xa0Oh, wait, wait, wait, I think I have\\xa0200.',\n",
       " 'Stephen Strange:\\xa0Dollars?',\n",
       " 'Wong:\\xa0Rupees.',\n",
       " 'Stephen Strange:\\xa0Which is?',\n",
       " 'Wong:\\xa0Uh,\\xa0buck and a half.',\n",
       " 'Stephen Strange:\\xa0What do you want?',\n",
       " \"Wong:\\xa0I wouldn't say no to a tuna melt.\",\n",
       " \"[Bruce crash-lands through the Sanctum stairs. The Cloak of Levitation swirls around Strange's shoulders immediately.]\",\n",
       " \"Bruce Banner:\\xa0Thanos is coming. He's coming...\",\n",
       " 'Stephen Strange:\\xa0[Sharing a look with Wong, and now fully in his mage attire]\\xa0Who?',\n",
       " '[Title Screen:\\xa0Avengers: Infinity War]',\n",
       " '']"
      ]
     },
     "execution_count": 25,
     "metadata": {},
     "output_type": "execute_result"
    }
   ],
   "source": [
    "script_by_scene[2].split(\"\\n\")"
   ]
  },
  {
   "cell_type": "markdown",
   "metadata": {},
   "source": [
    "## 가중치 데이터프레임 생성"
   ]
  },
  {
   "cell_type": "code",
   "execution_count": 26,
   "metadata": {
    "ExecuteTime": {
     "end_time": "2021-03-05T08:13:17.759834Z",
     "start_time": "2021-03-05T08:13:14.781802Z"
    }
   },
   "outputs": [
    {
     "data": {
      "text/html": [
       "<div>\n",
       "<style scoped>\n",
       "    .dataframe tbody tr th:only-of-type {\n",
       "        vertical-align: middle;\n",
       "    }\n",
       "\n",
       "    .dataframe tbody tr th {\n",
       "        vertical-align: top;\n",
       "    }\n",
       "\n",
       "    .dataframe thead th {\n",
       "        text-align: right;\n",
       "    }\n",
       "</style>\n",
       "<table border=\"1\" class=\"dataframe\">\n",
       "  <thead>\n",
       "    <tr style=\"text-align: right;\">\n",
       "      <th></th>\n",
       "      <th>Source</th>\n",
       "      <th>Target</th>\n",
       "      <th>Type</th>\n",
       "      <th>weight</th>\n",
       "    </tr>\n",
       "  </thead>\n",
       "  <tbody>\n",
       "    <tr>\n",
       "      <th>0</th>\n",
       "      <td>[THE MARVEL STUDIOS LOGO PLAYS AS USUAL BUT TH...</td>\n",
       "      <td>EBONY MAW</td>\n",
       "      <td>Undirected</td>\n",
       "      <td>1</td>\n",
       "    </tr>\n",
       "    <tr>\n",
       "      <th>1</th>\n",
       "      <td>EBONY MAW</td>\n",
       "      <td>THANOS [LOOKING OUT THE LARGE WINDOW WE SAW AT...</td>\n",
       "      <td>Undirected</td>\n",
       "      <td>1</td>\n",
       "    </tr>\n",
       "    <tr>\n",
       "      <th>2</th>\n",
       "      <td>THANOS [LOOKING OUT THE LARGE WINDOW WE SAW AT...</td>\n",
       "      <td>THOR</td>\n",
       "      <td>Undirected</td>\n",
       "      <td>1</td>\n",
       "    </tr>\n",
       "    <tr>\n",
       "      <th>3</th>\n",
       "      <td>THOR</td>\n",
       "      <td>THANOS</td>\n",
       "      <td>Undirected</td>\n",
       "      <td>8</td>\n",
       "    </tr>\n",
       "    <tr>\n",
       "      <th>4</th>\n",
       "      <td>THANOS</td>\n",
       "      <td>LOKI</td>\n",
       "      <td>Undirected</td>\n",
       "      <td>7</td>\n",
       "    </tr>\n",
       "    <tr>\n",
       "      <th>...</th>\n",
       "      <td>...</td>\n",
       "      <td>...</td>\n",
       "      <td>...</td>\n",
       "      <td>...</td>\n",
       "    </tr>\n",
       "    <tr>\n",
       "      <th>198</th>\n",
       "      <td>PETER PARKER</td>\n",
       "      <td>NEBULA</td>\n",
       "      <td>Undirected</td>\n",
       "      <td>1</td>\n",
       "    </tr>\n",
       "    <tr>\n",
       "      <th>199</th>\n",
       "      <td>NEBULA</td>\n",
       "      <td>JAMES RHODES</td>\n",
       "      <td>Undirected</td>\n",
       "      <td>1</td>\n",
       "    </tr>\n",
       "    <tr>\n",
       "      <th>200</th>\n",
       "      <td>NICK FURY</td>\n",
       "      <td>MARIA HILL</td>\n",
       "      <td>Undirected</td>\n",
       "      <td>10</td>\n",
       "    </tr>\n",
       "    <tr>\n",
       "      <th>201</th>\n",
       "      <td>NICK FURY</td>\n",
       "      <td>MARIA HILL</td>\n",
       "      <td>Undirected</td>\n",
       "      <td>2</td>\n",
       "    </tr>\n",
       "    <tr>\n",
       "      <th>202</th>\n",
       "      <td>NICK FURY</td>\n",
       "      <td>NICK FURY</td>\n",
       "      <td>Undirected</td>\n",
       "      <td>1</td>\n",
       "    </tr>\n",
       "  </tbody>\n",
       "</table>\n",
       "<p>203 rows × 4 columns</p>\n",
       "</div>"
      ],
      "text/plain": [
       "                                                Source  \\\n",
       "0    [THE MARVEL STUDIOS LOGO PLAYS AS USUAL BUT TH...   \n",
       "1                                            EBONY MAW   \n",
       "2    THANOS [LOOKING OUT THE LARGE WINDOW WE SAW AT...   \n",
       "3                                                 THOR   \n",
       "4                                               THANOS   \n",
       "..                                                 ...   \n",
       "198                                       PETER PARKER   \n",
       "199                                             NEBULA   \n",
       "200                                          NICK FURY   \n",
       "201                                          NICK FURY   \n",
       "202                                          NICK FURY   \n",
       "\n",
       "                                                Target        Type weight  \n",
       "0                                            EBONY MAW  Undirected      1  \n",
       "1    THANOS [LOOKING OUT THE LARGE WINDOW WE SAW AT...  Undirected      1  \n",
       "2                                                 THOR  Undirected      1  \n",
       "3                                               THANOS  Undirected      8  \n",
       "4                                                 LOKI  Undirected      7  \n",
       "..                                                 ...         ...    ...  \n",
       "198                                             NEBULA  Undirected      1  \n",
       "199                                       JAMES RHODES  Undirected      1  \n",
       "200                                         MARIA HILL  Undirected     10  \n",
       "201                                         MARIA HILL  Undirected      2  \n",
       "202                                          NICK FURY  Undirected      1  \n",
       "\n",
       "[203 rows x 4 columns]"
      ]
     },
     "execution_count": 26,
     "metadata": {},
     "output_type": "execute_result"
    }
   ],
   "source": [
    "df = make_weight_df(script_by_scene)\n",
    "df"
   ]
  },
  {
   "cell_type": "markdown",
   "metadata": {},
   "source": [
    "## 노드 (캐릭터) 명 전처리"
   ]
  },
  {
   "cell_type": "code",
   "execution_count": 27,
   "metadata": {
    "ExecuteTime": {
     "end_time": "2021-03-05T08:13:17.766964Z",
     "start_time": "2021-03-05T08:13:17.761759Z"
    }
   },
   "outputs": [],
   "source": [
    "# 동일한 인물명 지정\n",
    "synonyms = {\n",
    "    'F.R.I.D.A.Y.': \"FRIDAY\",\n",
    "    'GAMORA\\xa0THE ENTIRE TIME I KNEW THANOS, HE ONLY EVER HAD ONE GOAL': \"GAMORA\",\n",
    "    'JAMES\\xa0RHODES': 'JAMES RHODES',\n",
    "    \"T'CHALLA\": \"BLACK PANTHER\",\n",
    "    \"KING\\xa0T'CHALLA\": \"BLACK PANTHER\",\n",
    "    'MARIA\\xa0HILL': 'MARIA HILL',\n",
    "    'MEMORY GAMORA': \"GAMORA\",\n",
    "    'MEMORY NEBULA': \"NEBULA\",\n",
    "    'NATASHA ROMANOFF': 'BLACK WIDOW',\n",
    "    'PEPPER POTTS': \"PEPPER\",\n",
    "    'PETER PARKER': \"SPIDERMAN\",\n",
    "    'PETER QUILL': \"STAR-LORD\",\n",
    "    'PETER\\xa0QUILL': \"STAR-LORD\",\n",
    "    'SAM WILSON': \"FALCON\",\n",
    "    'STEPHEN STRANGE': \"DOCTOR STRANGE\",\n",
    "    'STEPHEN STRANGE\\xa0WAIT, WHAT. THANOS?': \"DOCTOR STRANGE\",\n",
    "    'STEPHEN\\xa0STRANGE': \"DOCTOR STRANGE\",\n",
    "    'STEVE ROGERS': \"CAPTAIN AMERICA\",\n",
    "    'STONEKEEPER\\xa0WE ALL THINK THAT AT FIRST.': 'STONEKEEPER',\n",
    "    \"THOR\\xa0EITRI, THIS ISN'T ABOUT YOUR HANDS. EVERY WEAPON YOU'VE EVER DESIGNED\": \"THOR\",\n",
    "    'TONY STARK': \"IRON MAN\",\n",
    "    'TONY STARK\\xa0WHATEVER. POINT IS': \"IRON MAN\",\n",
    "    \"TONY STARK\\xa0YEAH, I'M FINE. I JUST THINK WE MIGHT HAVE TO PUSH OUR 8\": \"IRON MAN\",\n",
    "    'YOUNG GAMORA': \"GAMORA\",\n",
    "    'SCHOOL BUS DRIVER, STAN LEE': \"STAN LEE\"\n",
    "}"
   ]
  },
  {
   "cell_type": "code",
   "execution_count": 28,
   "metadata": {
    "ExecuteTime": {
     "end_time": "2021-03-05T08:13:17.800753Z",
     "start_time": "2021-03-05T08:13:17.768754Z"
    }
   },
   "outputs": [],
   "source": [
    "# 캐릭터명 아닌 것 정리\n",
    "df.Source = df.Source.apply(lambda x: re.sub(r\"\\[[\\w\\W]+\", \"\", x))\n",
    "df.Target = df.Target.apply(lambda x: re.sub(r\"\\[[\\w\\W]+\", \"\", x))\n",
    "\n",
    "# 캐릭터 명 통일\n",
    "df.Source = df.Source.apply(lambda x: x.strip())\n",
    "df.Target = df.Target.apply(lambda x: x.strip())\n",
    "\n",
    "for index, row in df.iterrows():\n",
    "    if row.Source in synonyms:\n",
    "        row.Source = synonyms[row.Source]\n",
    "        \n",
    "    if row.Target in synonyms:\n",
    "        row.Target = synonyms[row.Target]"
   ]
  },
  {
   "cell_type": "code",
   "execution_count": 29,
   "metadata": {
    "ExecuteTime": {
     "end_time": "2021-03-05T08:13:17.806922Z",
     "start_time": "2021-03-05T08:13:17.802469Z"
    }
   },
   "outputs": [
    {
     "data": {
      "text/plain": [
       "{'',\n",
       " 'BLACK PANTHER',\n",
       " 'BLACK WIDOW',\n",
       " 'BRUCE BANNER',\n",
       " 'BUCKY BARNES',\n",
       " 'CAPTAIN AMERICA',\n",
       " 'CHILD OF THANOS',\n",
       " 'COLLECTOR',\n",
       " 'CORVUS GLAIVE',\n",
       " 'CULL OBSIDIAN',\n",
       " 'DOCTOR STRANGE',\n",
       " 'DOME CONTROL',\n",
       " 'DRAX',\n",
       " 'EBONY MAW',\n",
       " 'EITRI',\n",
       " 'FALCON',\n",
       " 'FRIDAY',\n",
       " 'GAMORA',\n",
       " \"GAMORA'S MOTHER\",\n",
       " 'GROOT',\n",
       " 'HEIMDALL',\n",
       " 'HULK',\n",
       " 'IRON MAN',\n",
       " 'JABARI WARRIORS',\n",
       " 'JAMES RHODES',\n",
       " 'LOKI',\n",
       " \"M'BAKU\",\n",
       " 'MANTIS',\n",
       " 'MARIA HILL',\n",
       " 'NEBULA',\n",
       " 'NED LEEDS',\n",
       " 'NICK FURY',\n",
       " 'OKOYE',\n",
       " 'PEPPER',\n",
       " 'PROXIMA MIDNIGHT',\n",
       " 'RED SKULL',\n",
       " 'ROCKET',\n",
       " 'SECRETARY ROSS',\n",
       " 'SHURI',\n",
       " 'SPIDERMAN',\n",
       " 'STAN LEE',\n",
       " 'STAR-LORD',\n",
       " 'STONEKEEPER',\n",
       " 'THANOS',\n",
       " 'THOR',\n",
       " 'VISION',\n",
       " 'WANDA MAXIMOFF',\n",
       " 'WONG'}"
      ]
     },
     "execution_count": 29,
     "metadata": {},
     "output_type": "execute_result"
    }
   ],
   "source": [
    "set(list(df.Source.unique()) + list(df.Target.unique()))"
   ]
  },
  {
   "cell_type": "markdown",
   "metadata": {},
   "source": [
    "## 추가 전처리"
   ]
  },
  {
   "cell_type": "code",
   "execution_count": 30,
   "metadata": {
    "ExecuteTime": {
     "end_time": "2021-03-05T08:13:17.991490Z",
     "start_time": "2021-03-05T08:13:17.808359Z"
    }
   },
   "outputs": [
    {
     "name": "stdout",
     "output_type": "stream",
     "text": [
      "(134, 5)\n"
     ]
    },
    {
     "name": "stderr",
     "output_type": "stream",
     "text": [
      "/Users/dongwook/opt/anaconda3/lib/python3.8/site-packages/pandas/core/frame.py:3990: SettingWithCopyWarning: \n",
      "A value is trying to be set on a copy of a slice from a DataFrame\n",
      "\n",
      "See the caveats in the documentation: https://pandas.pydata.org/pandas-docs/stable/user_guide/indexing.html#returning-a-view-versus-a-copy\n",
      "  return super().drop(\n"
     ]
    },
    {
     "data": {
      "text/html": [
       "<div>\n",
       "<style scoped>\n",
       "    .dataframe tbody tr th:only-of-type {\n",
       "        vertical-align: middle;\n",
       "    }\n",
       "\n",
       "    .dataframe tbody tr th {\n",
       "        vertical-align: top;\n",
       "    }\n",
       "\n",
       "    .dataframe thead th {\n",
       "        text-align: right;\n",
       "    }\n",
       "</style>\n",
       "<table border=\"1\" class=\"dataframe\">\n",
       "  <thead>\n",
       "    <tr style=\"text-align: right;\">\n",
       "      <th></th>\n",
       "      <th>Source</th>\n",
       "      <th>Target</th>\n",
       "      <th>Type</th>\n",
       "      <th>weight</th>\n",
       "      <th>series</th>\n",
       "    </tr>\n",
       "  </thead>\n",
       "  <tbody>\n",
       "    <tr>\n",
       "      <th>0</th>\n",
       "      <td>ROCKET</td>\n",
       "      <td>THOR</td>\n",
       "      <td>Undirected</td>\n",
       "      <td>52</td>\n",
       "      <td>3</td>\n",
       "    </tr>\n",
       "    <tr>\n",
       "      <th>1</th>\n",
       "      <td>IRON MAN</td>\n",
       "      <td>DOCTOR STRANGE</td>\n",
       "      <td>Undirected</td>\n",
       "      <td>51</td>\n",
       "      <td>3</td>\n",
       "    </tr>\n",
       "    <tr>\n",
       "      <th>2</th>\n",
       "      <td>SPIDERMAN</td>\n",
       "      <td>IRON MAN</td>\n",
       "      <td>Undirected</td>\n",
       "      <td>44</td>\n",
       "      <td>3</td>\n",
       "    </tr>\n",
       "    <tr>\n",
       "      <th>3</th>\n",
       "      <td>THANOS</td>\n",
       "      <td>GAMORA</td>\n",
       "      <td>Undirected</td>\n",
       "      <td>40</td>\n",
       "      <td>3</td>\n",
       "    </tr>\n",
       "    <tr>\n",
       "      <th>4</th>\n",
       "      <td>STAR-LORD</td>\n",
       "      <td>GAMORA</td>\n",
       "      <td>Undirected</td>\n",
       "      <td>28</td>\n",
       "      <td>3</td>\n",
       "    </tr>\n",
       "  </tbody>\n",
       "</table>\n",
       "</div>"
      ],
      "text/plain": [
       "      Source          Target        Type weight  series\n",
       "0     ROCKET            THOR  Undirected     52       3\n",
       "1   IRON MAN  DOCTOR STRANGE  Undirected     51       3\n",
       "2  SPIDERMAN        IRON MAN  Undirected     44       3\n",
       "3     THANOS          GAMORA  Undirected     40       3\n",
       "4  STAR-LORD          GAMORA  Undirected     28       3"
      ]
     },
     "execution_count": 30,
     "metadata": {},
     "output_type": "execute_result"
    }
   ],
   "source": [
    "avengers_3 = preprocess(df=df, series_no=3)\n",
    "\n",
    "print(avengers_3.shape)\n",
    "avengers_3.head()"
   ]
  },
  {
   "cell_type": "code",
   "execution_count": 31,
   "metadata": {
    "ExecuteTime": {
     "end_time": "2021-03-05T08:13:18.004480Z",
     "start_time": "2021-03-05T08:13:17.993481Z"
    }
   },
   "outputs": [
    {
     "data": {
      "text/html": [
       "<div>\n",
       "<style scoped>\n",
       "    .dataframe tbody tr th:only-of-type {\n",
       "        vertical-align: middle;\n",
       "    }\n",
       "\n",
       "    .dataframe tbody tr th {\n",
       "        vertical-align: top;\n",
       "    }\n",
       "\n",
       "    .dataframe thead th {\n",
       "        text-align: right;\n",
       "    }\n",
       "</style>\n",
       "<table border=\"1\" class=\"dataframe\">\n",
       "  <thead>\n",
       "    <tr style=\"text-align: right;\">\n",
       "      <th></th>\n",
       "      <th>Source</th>\n",
       "      <th>Target</th>\n",
       "      <th>Type</th>\n",
       "      <th>weight</th>\n",
       "      <th>series</th>\n",
       "    </tr>\n",
       "  </thead>\n",
       "  <tbody>\n",
       "    <tr>\n",
       "      <th>40</th>\n",
       "      <td>CAPTAIN AMERICA</td>\n",
       "      <td>BLACK WIDOW</td>\n",
       "      <td>Undirected</td>\n",
       "      <td>4</td>\n",
       "      <td>3</td>\n",
       "    </tr>\n",
       "    <tr>\n",
       "      <th>46</th>\n",
       "      <td>CAPTAIN AMERICA</td>\n",
       "      <td>SECRETARY ROSS</td>\n",
       "      <td>Undirected</td>\n",
       "      <td>3</td>\n",
       "      <td>3</td>\n",
       "    </tr>\n",
       "    <tr>\n",
       "      <th>65</th>\n",
       "      <td>CAPTAIN AMERICA</td>\n",
       "      <td>THOR</td>\n",
       "      <td>Undirected</td>\n",
       "      <td>2</td>\n",
       "      <td>3</td>\n",
       "    </tr>\n",
       "    <tr>\n",
       "      <th>81</th>\n",
       "      <td>CAPTAIN AMERICA</td>\n",
       "      <td>OKOYE</td>\n",
       "      <td>Undirected</td>\n",
       "      <td>1</td>\n",
       "      <td>3</td>\n",
       "    </tr>\n",
       "    <tr>\n",
       "      <th>132</th>\n",
       "      <td>CAPTAIN AMERICA</td>\n",
       "      <td>WANDA MAXIMOFF</td>\n",
       "      <td>Undirected</td>\n",
       "      <td>1</td>\n",
       "      <td>3</td>\n",
       "    </tr>\n",
       "  </tbody>\n",
       "</table>\n",
       "</div>"
      ],
      "text/plain": [
       "              Source          Target        Type weight  series\n",
       "40   CAPTAIN AMERICA     BLACK WIDOW  Undirected      4       3\n",
       "46   CAPTAIN AMERICA  SECRETARY ROSS  Undirected      3       3\n",
       "65   CAPTAIN AMERICA            THOR  Undirected      2       3\n",
       "81   CAPTAIN AMERICA           OKOYE  Undirected      1       3\n",
       "132  CAPTAIN AMERICA  WANDA MAXIMOFF  Undirected      1       3"
      ]
     },
     "execution_count": 31,
     "metadata": {},
     "output_type": "execute_result"
    }
   ],
   "source": [
    "avengers_3[avengers_3.Source == \"CAPTAIN AMERICA\"]"
   ]
  },
  {
   "cell_type": "code",
   "execution_count": 32,
   "metadata": {
    "ExecuteTime": {
     "end_time": "2021-03-05T08:13:18.016035Z",
     "start_time": "2021-03-05T08:13:18.006166Z"
    }
   },
   "outputs": [
    {
     "data": {
      "text/html": [
       "<div>\n",
       "<style scoped>\n",
       "    .dataframe tbody tr th:only-of-type {\n",
       "        vertical-align: middle;\n",
       "    }\n",
       "\n",
       "    .dataframe tbody tr th {\n",
       "        vertical-align: top;\n",
       "    }\n",
       "\n",
       "    .dataframe thead th {\n",
       "        text-align: right;\n",
       "    }\n",
       "</style>\n",
       "<table border=\"1\" class=\"dataframe\">\n",
       "  <thead>\n",
       "    <tr style=\"text-align: right;\">\n",
       "      <th></th>\n",
       "      <th>Source</th>\n",
       "      <th>Target</th>\n",
       "      <th>Type</th>\n",
       "      <th>weight</th>\n",
       "      <th>series</th>\n",
       "    </tr>\n",
       "  </thead>\n",
       "  <tbody>\n",
       "    <tr>\n",
       "      <th>26</th>\n",
       "      <td>BUCKY BARNES</td>\n",
       "      <td>CAPTAIN AMERICA</td>\n",
       "      <td>Undirected</td>\n",
       "      <td>5</td>\n",
       "      <td>3</td>\n",
       "    </tr>\n",
       "    <tr>\n",
       "      <th>28</th>\n",
       "      <td>VISION</td>\n",
       "      <td>CAPTAIN AMERICA</td>\n",
       "      <td>Undirected</td>\n",
       "      <td>5</td>\n",
       "      <td>3</td>\n",
       "    </tr>\n",
       "    <tr>\n",
       "      <th>29</th>\n",
       "      <td>BRUCE BANNER</td>\n",
       "      <td>CAPTAIN AMERICA</td>\n",
       "      <td>Undirected</td>\n",
       "      <td>5</td>\n",
       "      <td>3</td>\n",
       "    </tr>\n",
       "    <tr>\n",
       "      <th>44</th>\n",
       "      <td>FALCON</td>\n",
       "      <td>CAPTAIN AMERICA</td>\n",
       "      <td>Undirected</td>\n",
       "      <td>3</td>\n",
       "      <td>3</td>\n",
       "    </tr>\n",
       "    <tr>\n",
       "      <th>67</th>\n",
       "      <td>BLACK PANTHER</td>\n",
       "      <td>CAPTAIN AMERICA</td>\n",
       "      <td>Undirected</td>\n",
       "      <td>2</td>\n",
       "      <td>3</td>\n",
       "    </tr>\n",
       "    <tr>\n",
       "      <th>68</th>\n",
       "      <td>SHURI</td>\n",
       "      <td>CAPTAIN AMERICA</td>\n",
       "      <td>Undirected</td>\n",
       "      <td>2</td>\n",
       "      <td>3</td>\n",
       "    </tr>\n",
       "    <tr>\n",
       "      <th>80</th>\n",
       "      <td>PROXIMA MIDNIGHT</td>\n",
       "      <td>CAPTAIN AMERICA</td>\n",
       "      <td>Undirected</td>\n",
       "      <td>1</td>\n",
       "      <td>3</td>\n",
       "    </tr>\n",
       "    <tr>\n",
       "      <th>95</th>\n",
       "      <td>CORVUS GLAIVE</td>\n",
       "      <td>CAPTAIN AMERICA</td>\n",
       "      <td>Undirected</td>\n",
       "      <td>1</td>\n",
       "      <td>3</td>\n",
       "    </tr>\n",
       "    <tr>\n",
       "      <th>100</th>\n",
       "      <td>GROOT</td>\n",
       "      <td>CAPTAIN AMERICA</td>\n",
       "      <td>Undirected</td>\n",
       "      <td>1</td>\n",
       "      <td>3</td>\n",
       "    </tr>\n",
       "  </tbody>\n",
       "</table>\n",
       "</div>"
      ],
      "text/plain": [
       "               Source           Target        Type weight  series\n",
       "26       BUCKY BARNES  CAPTAIN AMERICA  Undirected      5       3\n",
       "28             VISION  CAPTAIN AMERICA  Undirected      5       3\n",
       "29       BRUCE BANNER  CAPTAIN AMERICA  Undirected      5       3\n",
       "44             FALCON  CAPTAIN AMERICA  Undirected      3       3\n",
       "67      BLACK PANTHER  CAPTAIN AMERICA  Undirected      2       3\n",
       "68              SHURI  CAPTAIN AMERICA  Undirected      2       3\n",
       "80   PROXIMA MIDNIGHT  CAPTAIN AMERICA  Undirected      1       3\n",
       "95      CORVUS GLAIVE  CAPTAIN AMERICA  Undirected      1       3\n",
       "100             GROOT  CAPTAIN AMERICA  Undirected      1       3"
      ]
     },
     "execution_count": 32,
     "metadata": {},
     "output_type": "execute_result"
    }
   ],
   "source": [
    "avengers_3[avengers_3.Target == \"CAPTAIN AMERICA\"]"
   ]
  },
  {
   "cell_type": "markdown",
   "metadata": {},
   "source": [
    "# 어벤져스 4편 (엔드게임)"
   ]
  },
  {
   "cell_type": "markdown",
   "metadata": {},
   "source": [
    "## 데이터 불러오기"
   ]
  },
  {
   "cell_type": "code",
   "execution_count": 33,
   "metadata": {
    "ExecuteTime": {
     "end_time": "2021-03-05T08:13:18.021407Z",
     "start_time": "2021-03-05T08:13:18.017841Z"
    }
   },
   "outputs": [],
   "source": [
    "path = \"./Data/Avengers4.txt\"\n",
    "\n",
    "script_by_scene = get_script_by_scene(path=path)"
   ]
  },
  {
   "cell_type": "code",
   "execution_count": 34,
   "metadata": {
    "ExecuteTime": {
     "end_time": "2021-03-05T08:13:18.025585Z",
     "start_time": "2021-03-05T08:13:18.022830Z"
    }
   },
   "outputs": [
    {
     "data": {
      "text/plain": [
       "84"
      ]
     },
     "execution_count": 34,
     "metadata": {},
     "output_type": "execute_result"
    }
   ],
   "source": [
    "len(script_by_scene)"
   ]
  },
  {
   "cell_type": "code",
   "execution_count": 35,
   "metadata": {
    "ExecuteTime": {
     "end_time": "2021-03-05T08:13:18.030618Z",
     "start_time": "2021-03-05T08:13:18.027089Z"
    }
   },
   "outputs": [
    {
     "data": {
      "text/plain": [
       "['01',\n",
       " '[SOMEWHERE IN\\xa0SPACE]',\n",
       " '[Marvel Studios Opening sequence begins with Dear Mr. Fantasy playing. Only the heroes who survived the snap are shown.]',\n",
       " '[Scene switches to Nebula and Tony on the ship playing paper football]',\n",
       " 'NEBULA:\\xa0Wrra!\\xa0[Nebula, frustrated, puts her hands in a fighting stance while looking at Tony.]',\n",
       " \"TONY STARK:\\xa0You don't need to do that. Because uh... you're just holding position.\\xa0[Nebula flicks a paper football towards Tony]\\xa0Oh yeah, that was close.\\xa0[Nebula once again flicks a paper football towards Tony]\\xa0That's a goal. We're now one apiece.\",\n",
       " 'NEBULA:\\xa0I would like to try again.\\xa0[Nebula flicks a paper football towards Tony]',\n",
       " \"TONY STARK:\\xa0We're tied up. Feel the tension? It's fun.\",\n",
       " '[Tony poorly flicks a paper football towards Nebula]',\n",
       " 'TONY STARK:\\xa0That was terrible. Now you have a chance to win.\\xa0[Nebula flicks the paper football towards Tony]',\n",
       " \"TONY STARK:\\xa0And... you've won. Congratulations.\\xa0[Tony reaches his hand out to shake Nebula's hand]\",\n",
       " \"TONY STARK:\\xa0Fair game. Good sport.\\xa0[Nebula shakes Tony's hand]\\xa0Have fun?\",\n",
       " 'NEBULA:\\xa0It was fun.',\n",
       " \"[Camera switches to see Iron Man's busted helmet. Tony Stark's hand reaches forward to turn on the helmet. We pan out to see that he's sitting on the floor of a gloomy\\xa0Benatar. The weight of the recent events of INFINITY WAR evident in Tony's posture. He taps the helmet with a sigh.]\",\n",
       " \"TONY STARK:\\xa0This thing on?\\xa0[The helmet scans Tony. Tony leans against the wall while taking deep breaths. He looks skinnier and weak with malnutrition.]\\xa0Hey, Miss Potts... Pep. If you find this recording, don't post it on social media. It's gonna be a real tear-jerker. I don't know if you're ever going to see these. I don't even know if you're... if you're still... Oh god, I hope so. Today is day 21, uh 22.\\xa0\",\n",
       " '']"
      ]
     },
     "execution_count": 35,
     "metadata": {},
     "output_type": "execute_result"
    }
   ],
   "source": [
    "script_by_scene[2].split(\"\\n\")"
   ]
  },
  {
   "cell_type": "markdown",
   "metadata": {},
   "source": [
    "## 가중치 데이터프레임 생성"
   ]
  },
  {
   "cell_type": "code",
   "execution_count": 36,
   "metadata": {
    "ExecuteTime": {
     "end_time": "2021-03-05T08:13:21.680935Z",
     "start_time": "2021-03-05T08:13:18.032080Z"
    }
   },
   "outputs": [
    {
     "data": {
      "text/html": [
       "<div>\n",
       "<style scoped>\n",
       "    .dataframe tbody tr th:only-of-type {\n",
       "        vertical-align: middle;\n",
       "    }\n",
       "\n",
       "    .dataframe tbody tr th {\n",
       "        vertical-align: top;\n",
       "    }\n",
       "\n",
       "    .dataframe thead th {\n",
       "        text-align: right;\n",
       "    }\n",
       "</style>\n",
       "<table border=\"1\" class=\"dataframe\">\n",
       "  <thead>\n",
       "    <tr style=\"text-align: right;\">\n",
       "      <th></th>\n",
       "      <th>Source</th>\n",
       "      <th>Target</th>\n",
       "      <th>Type</th>\n",
       "      <th>weight</th>\n",
       "    </tr>\n",
       "  </thead>\n",
       "  <tbody>\n",
       "    <tr>\n",
       "      <th>0</th>\n",
       "      <td>CLINT BARTON</td>\n",
       "      <td>LILA BARTON</td>\n",
       "      <td>Undirected</td>\n",
       "      <td>9</td>\n",
       "    </tr>\n",
       "    <tr>\n",
       "      <th>1</th>\n",
       "      <td>CLINT BARTON</td>\n",
       "      <td>CLINT BARTON</td>\n",
       "      <td>Undirected</td>\n",
       "      <td>7</td>\n",
       "    </tr>\n",
       "    <tr>\n",
       "      <th>2</th>\n",
       "      <td>CLINT BARTON</td>\n",
       "      <td>COOPER BARTON</td>\n",
       "      <td>Undirected</td>\n",
       "      <td>1</td>\n",
       "    </tr>\n",
       "    <tr>\n",
       "      <th>3</th>\n",
       "      <td>COOPER BARTON</td>\n",
       "      <td>LAURA BARTON</td>\n",
       "      <td>Undirected</td>\n",
       "      <td>3</td>\n",
       "    </tr>\n",
       "    <tr>\n",
       "      <th>4</th>\n",
       "      <td>LAURA BARTON</td>\n",
       "      <td>LILA BARTON</td>\n",
       "      <td>Undirected</td>\n",
       "      <td>1</td>\n",
       "    </tr>\n",
       "    <tr>\n",
       "      <th>...</th>\n",
       "      <td>...</td>\n",
       "      <td>...</td>\n",
       "      <td>...</td>\n",
       "      <td>...</td>\n",
       "    </tr>\n",
       "    <tr>\n",
       "      <th>255</th>\n",
       "      <td>BUCKY BARNES</td>\n",
       "      <td>SAM WILSON</td>\n",
       "      <td>Undirected</td>\n",
       "      <td>1</td>\n",
       "    </tr>\n",
       "    <tr>\n",
       "      <th>256</th>\n",
       "      <td>SAM WILSON</td>\n",
       "      <td>(OLD) STEVE ROGERS</td>\n",
       "      <td>Undirected</td>\n",
       "      <td>15</td>\n",
       "    </tr>\n",
       "    <tr>\n",
       "      <th>257</th>\n",
       "      <td>(OLD) STEVE ROGERS</td>\n",
       "      <td>(OLD) STEVE ROGERS</td>\n",
       "      <td>Undirected</td>\n",
       "      <td>1</td>\n",
       "    </tr>\n",
       "    <tr>\n",
       "      <th>258</th>\n",
       "      <td>(OLD) STEVE ROGERS</td>\n",
       "      <td>[CLOSING TITLE</td>\n",
       "      <td>Undirected</td>\n",
       "      <td>1</td>\n",
       "    </tr>\n",
       "    <tr>\n",
       "      <th>259</th>\n",
       "      <td>[CLOSING TITLE</td>\n",
       "      <td>[SCREEN TITLE</td>\n",
       "      <td>Undirected</td>\n",
       "      <td>1</td>\n",
       "    </tr>\n",
       "  </tbody>\n",
       "</table>\n",
       "<p>260 rows × 4 columns</p>\n",
       "</div>"
      ],
      "text/plain": [
       "                 Source              Target        Type weight\n",
       "0          CLINT BARTON         LILA BARTON  Undirected      9\n",
       "1          CLINT BARTON        CLINT BARTON  Undirected      7\n",
       "2          CLINT BARTON       COOPER BARTON  Undirected      1\n",
       "3         COOPER BARTON        LAURA BARTON  Undirected      3\n",
       "4          LAURA BARTON         LILA BARTON  Undirected      1\n",
       "..                  ...                 ...         ...    ...\n",
       "255        BUCKY BARNES          SAM WILSON  Undirected      1\n",
       "256          SAM WILSON  (OLD) STEVE ROGERS  Undirected     15\n",
       "257  (OLD) STEVE ROGERS  (OLD) STEVE ROGERS  Undirected      1\n",
       "258  (OLD) STEVE ROGERS      [CLOSING TITLE  Undirected      1\n",
       "259      [CLOSING TITLE       [SCREEN TITLE  Undirected      1\n",
       "\n",
       "[260 rows x 4 columns]"
      ]
     },
     "execution_count": 36,
     "metadata": {},
     "output_type": "execute_result"
    }
   ],
   "source": [
    "df = make_weight_df(script_by_scene)\n",
    "df"
   ]
  },
  {
   "cell_type": "markdown",
   "metadata": {},
   "source": [
    "## 노드 (캐릭터) 명 전처리"
   ]
  },
  {
   "cell_type": "code",
   "execution_count": 37,
   "metadata": {
    "ExecuteTime": {
     "end_time": "2021-03-05T08:13:21.688112Z",
     "start_time": "2021-03-05T08:13:21.682734Z"
    }
   },
   "outputs": [
    {
     "data": {
      "text/plain": [
       "{'(OLD) STEVE ROGERS',\n",
       " '1\\xa0あいつだ! アキヒコさんを！(ROMANIZED AITSU DA! AKIHIKO-SAN WO!) (TRANSLATED',\n",
       " 'AKIHIKO\\xa0[IN A GATOTSU-LIKE SWORD STANCE]\\xa0死ね!\\xa0(ROMANIZED SHINE!) (ENGLISH',\n",
       " 'AKIHIKO\\xa0[JAPANESE]俺らがだと? 気でも狂ったか! (ORERA GA DATO? KI DEMO KURUTTA KA!)\\xa0[HE GESTURES TO ALL THE SCATTERED BODIES OF HIS HENCHMEN AND CHUCKLES]\\xa0(ENGLISH',\n",
       " 'AKIHIKO\\xa0てめえ なぜこんなことをする? 俺たちてめえになにもしてねぇだろ！(ROMANIZED TEMĒ NAZE KONNA KOTO WO SURU? ORETACHI TEMĒ NI NANI MO SHITENĒ DARO!) (ENGLISH',\n",
       " 'AKIHIKO\\xa0待て! 助けてくれ! お前に何でもやる! 何が欲しい?\\xa0(ROMANIZED MATE! TASUKETE KURE! OMAE NI NAN DEMO YARU! NANI GA HOSĪ? (ENGLISH',\n",
       " 'ALEXANDER PIERCE (2012)',\n",
       " 'ASGARDIAN SOLDIER (2013)',\n",
       " 'BOY',\n",
       " 'BRUCE',\n",
       " 'BRUCE (MEMORY)',\n",
       " 'BRUCE BANNER',\n",
       " 'BRUCE BANNER (2023)',\n",
       " \"BRUCE BANNER\\xa0I DON'T KNOW WHY EVERYONE BELIEVES THAT, BUT THAT ISN'T TRUE. THINK ABOUT IT\",\n",
       " 'BRUCE ROGERS',\n",
       " 'BRUCE\\xa0BANNER',\n",
       " 'BUCKY BARNES',\n",
       " 'CAPTAIN STEVENS (STEVE ROGERS)',\n",
       " 'CAROL DANVERS',\n",
       " 'CASSIE LANG',\n",
       " 'CLINT',\n",
       " 'CLINT BARTON',\n",
       " 'CLINT BARTON (2012)',\n",
       " 'CLINT BARTON (2023)',\n",
       " 'COOPER BARTON',\n",
       " 'CORVUS GLAIVE',\n",
       " 'DOCTOR STRANGE',\n",
       " 'DRAX',\n",
       " 'EBONY MAW (2014)',\n",
       " 'EDWIN JARVIS',\n",
       " 'ELEVATOR LADY',\n",
       " 'EVERYONE',\n",
       " 'F.R.I.D.A.Y',\n",
       " 'F.R.I.D.A.Y.',\n",
       " 'FRIGGA (2013)',\n",
       " 'GAMORA (2014)',\n",
       " 'GIRL',\n",
       " 'GROOT',\n",
       " 'HANK PYM',\n",
       " 'HANK\\xa0PYM',\n",
       " 'HAPPY',\n",
       " 'HOPE VAN DYNE',\n",
       " 'HOWARD STARK',\n",
       " 'HULK (2012)',\n",
       " 'HYDRA AGENT',\n",
       " 'JAMES RHODES',\n",
       " 'JIM STARLIN',\n",
       " 'JOE RUSSO',\n",
       " 'KORG',\n",
       " 'LAURA BARTON',\n",
       " 'LILA BARTON',\n",
       " 'LOKI (2012)',\n",
       " 'MANTIS',\n",
       " 'MORGAN STARK',\n",
       " 'NATASHA',\n",
       " 'NATASHA (MEMORY)',\n",
       " 'NATASHA ROMANOFF',\n",
       " 'NATASHA ROMANOFF (2012)',\n",
       " 'NATASHA ROMANOFF\\xa0(2012)',\n",
       " \"NATASHA ROMANOFF\\xa0FOR THE LAST FIVE YEARS I'VE BEEN TRYING TO DO ONE THING\",\n",
       " 'NATASHA ROMANONFF',\n",
       " 'NATHANIEL BARTON',\n",
       " 'NEBULA',\n",
       " 'NEBULA (2014)',\n",
       " 'NEBULA (MEMORY)',\n",
       " 'NEBULA\\xa0[STANDING BEHIND CAROL]\\xa0DON\\'T BOTHER. I CAN TELL YOU WHERE THANOS IS. THANOS SPENT A LONG TIME TRYING TO PERFECT ME. AND WHEN HE WORKED, HE TALKED ABOUT HIS GREAT PLAN. EVEN DISASSEMBLED, I WANTED TO PLEASE HIM. I\\'D ASK \"WHERE WOULD WE GO ONCE HIS PLAN WAS COMPLETE?\". HIS ANSWER WAS ALWAYS THE SAME',\n",
       " 'OKOYE',\n",
       " 'OLD SCOTT LANG',\n",
       " 'OUR WATCHER INFORMANT,\\xa0STAN LEE (1922-2018 R.I.P)',\n",
       " 'PEPPER POTTS',\n",
       " 'PETER PARKER',\n",
       " 'PETER QUILL',\n",
       " 'QUILL',\n",
       " 'RED SKULL (2014)',\n",
       " 'RHODEY',\n",
       " 'RHODEY (MEMORY)',\n",
       " 'ROCKET',\n",
       " \"ROCKET\\xa0ALL RIGHT. HERE'S THE DEAL, TUBBY\",\n",
       " 'RONIN',\n",
       " 'RONIN\\xa0[ALSO IN JAPANESE] お前はもう十分殺しただろ(ROMANIZED',\n",
       " 'RONIN\\xa0[AS HE DRAWS OUT HIS KATANA AND REVERSIBLY WIELDS IT.]地球の半分 サノスにやられた... お前はなぜ無事なの…(ROMANIZED\\xa0CHIKYŪ NO HANBUN SANOSU NI YARARETA... OMAE WA NAZE BUJI NANO...)\\xa0(ENGLISH',\n",
       " 'RUMLOW (2012)',\n",
       " 'SAM',\n",
       " 'SAM WILSON',\n",
       " 'SCOTT LANG',\n",
       " 'SECURITY OFFICER',\n",
       " 'SITWELL (2012)',\n",
       " 'STEVE',\n",
       " 'STEVE ROGERS',\n",
       " 'STEVE ROGERS (2012)',\n",
       " \"T'CHALLA\",\n",
       " 'TEEN SCOTT LANG',\n",
       " 'THANOS',\n",
       " 'THANOS (2014)',\n",
       " 'THANOS (MEMORY)',\n",
       " 'THANOS\\xa0(2014)',\n",
       " 'THE ANCIENT ONE (2012)',\n",
       " 'THE WASP',\n",
       " 'THOR',\n",
       " 'THOR (2012)',\n",
       " 'TONY STARK',\n",
       " 'TONY STARK (2012)',\n",
       " 'TONY STARK (2023)',\n",
       " 'TONY STARK (HOLOGRAM)',\n",
       " 'TONY STARK (VOICEOVER)',\n",
       " 'TONY STARK(2012)',\n",
       " 'TONY STARK\\xa0',\n",
       " 'TONY STARK\\xa0WE GOT A SHOT AT GETTING THESE STONES, BUT I GOTTA TELL YOU MY PRIORITIES',\n",
       " 'TONY STARK\\xa0WHY THE LONG FACE? LET ME GUESS',\n",
       " 'VALKYRIE',\n",
       " 'WANDA MAXIMOFF',\n",
       " 'WONG',\n",
       " '[CLOSING TITLE',\n",
       " \"[PEPPER LANDS NEXT TO OKOYE, FOLLOWED BY MANTIS, SHURI, THE WASP, 2014 GAMORA AND NEBULA. THANOS' ARMY CHARGES WHILE THE WOMEN HELP CAROL DANVERS GO THROUGH THE OUTRIDERS, SAKAARANS AND CHITAURI. 2014 GAMORA TAKES OUT A GORILLA, WHILE OKOYE TAKES OUT CORVUS GLAIVE. WANDA AND VALKYRIE DESTROY TWO LEVIATHANS. CAROL DANVERS THEN STARTS FLYING TOWARDS THE VAN WITH THE GAUNTLET, FLYING PAST ENEMIES AND GOING THROUGH ENEMY BLOCKADES THAT ARE IN HER WAY WITH EASE. THANOS, SEEING THIS, STARTS RUNNING TO CAROL DANVERS, BUT IS STOPPED BY PEPPER, SHURI AND THE WASP, WHO BLAST HIM BACKWARDS. THANOS, AFTER SEEING CAROL DANVERS FLY PAST HIM, THROWS HIS DOUBLE SWORD AT THE VAN, DESTROYING IT AND THE QUANTUM REALM TUNNEL, THROWING CAROL DANVERS BACKWARDS AND LOSING HER GRIP ON THE GAUNTLET, WHICH FALLS TO THE GROUND. DOCTOR STRANGE STEADIES THE WATER AFTER THE EXPLOSION. IN THE FINAL BRAWL FOR THE STARK GAUNTLET, STARK MOVES ONE OF THANOS' ENEMIES ASIDE AND SEES THE GAUNTLET. HE RUNS TO GET IT, BUT SEES THANOS, WHO STARK TACKLES. THANOS SMACKS STARK AWAY, KNOCKING HIM OUT. THEN THOR ARRIVES WITH STORMBREAKER AND 2013 MJOLNIR IN AN ATTEMPT TO PIN THANOS' ARM DOWN, WITH ASSISTANCE FROM CAPTAIN AMERICA. HOWEVER, THANOS OVERPOWERS THEM AND KNOCKS THEM BOTH OUT. AFTER PICKING UP THE GAUNTLET, CAROL DANVERS ARRIVES, PUNCHING AWAY AT THANOS WHILE HE IS HOLDING THE GAUNTLET. SHE KEEPS PUNCHING HIM, BUT THANOS GRABS HER BY THE ARM AND FLINGS HER AWAY. THANOS PUTS ON THE GAUNTLET, GAMMA RADIATION FROM THE STONES EATING AT HIM AS HE TRIES TO SNAP, BUT CAROL DANVERS ARISES AGAIN, AND STOPS HIS FINGERS FROM SNAPPING, OPENING UP HIS HAND SIMILAR TO WHAT CAPTAIN AMERICA DID IN AVENGERS\",\n",
       " '[SCREEN TITLE',\n",
       " '[THE CAMERA CUTS SHOWING A FEW OF THE AVENGERS IN HOLOGRAPHIC CALLS FROM THE LEFT TO RIGHT, RESPECTIVELY',\n",
       " '[TITLE SCREEN\\xa0AVENGERS'}"
      ]
     },
     "execution_count": 37,
     "metadata": {},
     "output_type": "execute_result"
    }
   ],
   "source": [
    "set(list(df.Source.unique()) + list(df.Target.unique()))"
   ]
  },
  {
   "cell_type": "code",
   "execution_count": 38,
   "metadata": {
    "ExecuteTime": {
     "end_time": "2021-03-05T08:13:21.695912Z",
     "start_time": "2021-03-05T08:13:21.689691Z"
    }
   },
   "outputs": [],
   "source": [
    "# 동일한 인물명 지정\n",
    "synonyms = {\n",
    "    'OUR WATCHER INFORMANT,\\xa0STAN LEE (1922-2018 R.I.P)': \"\",\n",
    "    \n",
    "    '1\\xa0あいつだ! アキヒコさんを！(ROMANIZED AITSU DA! AKIHIKO-SAN WO!) (TRANSLATED': \"AKIHIKO\",\n",
    "    'AKIHIKO\\xa0てめえ なぜこんなことをする? 俺たちてめえになにもしてねぇだろ！(ROMANIZED TEMĒ NAZE KONNA KOTO WO SURU? ORETACHI TEMĒ NI NANI MO SHITENĒ DARO!) (ENGLISH': \"AKIHIKO\",\n",
    "    'AKIHIKO\\xa0待て! 助けてくれ! お前に何でもやる! 何が欲しい?\\xa0(ROMANIZED MATE! TASUKETE KURE! OMAE NI NAN DEMO YARU! NANI GA HOSĪ? (ENGLISH': \"AKIHIKO\",    \n",
    "    '(OLD) STEVE ROGERS': \"CAPTAIN AMERICA\",\n",
    "    'ALEXANDER PIERCE (2012)': \"ALEXANDER PIERCE\",\n",
    "    'BRUCE': \"BRUCE BANNER\",\n",
    "    'BRUCE (MEMORY)': \"BRUCE BANNER\",\n",
    "    'BRUCE BANNER (2023)': \"BRUCE BANNER\",\n",
    "    \"BRUCE BANNER\\xa0I DON'T KNOW WHY EVERYONE BELIEVES THAT, BUT THAT ISN'T TRUE. THINK ABOUT IT\": \"BRUCE BANNER\",\n",
    "    'BRUCE\\xa0BANNER': \"BRUCE BANNER\",\n",
    "    'GAMORA (2014)': \"GAMORA\",\n",
    "    'CAPTAIN STEVENS (STEVE ROGERS)' : 'CAPTAIN AMERICA',\n",
    "    'STEVE': 'CAPTAIN AMERICA',\n",
    "    'STEVE ROGERS': 'CAPTAIN AMERICA',\n",
    "    'STEVE ROGERS (2012)': 'CAPTAIN AMERICA',\n",
    "    'CLINT': 'HAWKEYE',\n",
    "    'CLINT BARTON': 'HAWKEYE',\n",
    "    'CLINT BARTON (2012)' : 'HAWKEYE',\n",
    "    'CLINT BARTON (2023)': 'HAWKEYE',\n",
    "    'EBONY MAW (2014)': 'EBONY MAW',\n",
    "    'F.R.I.D.A.Y': \"FRIDAY\",\n",
    "    'F.R.I.D.A.Y.': \"FRIDAY\",\n",
    "    'FRIGGA (2013)': \"FRIGGA\",\n",
    "    'HANK\\xa0PYM': \"HANK PYM\",\n",
    "    'HULK (2012)': \"HULK\",\n",
    "    'LOKI (2012)': \"LOKI\",\n",
    "    'NATASHA': \"BLACK WIDOW\",\n",
    "    'NATASHA (MEMORY)': \"BLACK WIDOW\",\n",
    "    'NATASHA ROMANOFF': \"BLACK WIDOW\",\n",
    "    'NATASHA ROMANOFF (2012)': \"BLACK WIDOW\",\n",
    "    'NATASHA ROMANOFF\\xa0(2012)': \"BLACK WIDOW\",\n",
    "    \"NATASHA ROMANOFF\\xa0FOR THE LAST FIVE YEARS I'VE BEEN TRYING TO DO ONE THING\": \"BLACK WIDOW\",\n",
    "    'NATASHA ROMANONFF': \"BLACK WIDOW\",\n",
    "    'NEBULA (MEMORY)': \"NEBULA\",\n",
    "    'NEBULA (2014)': \"NEBULA\",\n",
    "    'PETER PARKER': \"SPIDERMAN\",\n",
    "    'PETER QUILL': \"STAR-LORD\",\n",
    "    'QUILL': \"STAR-LORD\",\n",
    "    'RED SKULL (2014)': \"RED SKULL\",\n",
    "    'RHODEY (MEMORY)': \"RHODEY\",\n",
    "    \"ROCKET\\xa0ALL RIGHT. HERE'S THE DEAL, TUBBY\": \"ROCKET\",\n",
    "    'SAM': \"FALCON\",\n",
    "    'SAM WILSON': \"FALCON\",\n",
    "    'SITWELL (2012)': \"SITWELL\",\n",
    "    \"T'CHALLA\": \"BLACK PANTHER\",\n",
    "    'TEEN SCOTT LANG': \"ANTMAN\",\n",
    "    'OLD SCOTT LANG': \"ANTMAN\",\n",
    "    'SCOTT LANG': \"ANTMAN\",\n",
    "    'THANOS (2014)': \"THANOS\",\n",
    "    'THANOS (MEMORY)': \"THANOS\",\n",
    "    'THANOS\\xa0(2014)': \"THANOS\",\n",
    "    'THOR (2012)': \"THOR\",\n",
    "    'TONY STARK (2012)': 'IRON MAN',\n",
    "    'TONY STARK': 'IRON MAN',\n",
    "    'TONY STARK (2012)': 'IRON MAN',\n",
    "    'TONY STARK (2023)': 'IRON MAN',\n",
    "    'TONY STARK (HOLOGRAM)': 'IRON MAN',\n",
    "    'TONY STARK (VOICEOVER)': 'IRON MAN',\n",
    "    'TONY STARK(2012)': 'IRON MAN',\n",
    "    'TONY STARK\\xa0WE GOT A SHOT AT GETTING THESE STONES, BUT I GOTTA TELL YOU MY PRIORITIES': 'IRON MAN',\n",
    "    'TONY STARK\\xa0WHY THE LONG FACE? LET ME GUESS': 'IRON MAN'\n",
    "}"
   ]
  },
  {
   "cell_type": "code",
   "execution_count": 39,
   "metadata": {
    "ExecuteTime": {
     "end_time": "2021-03-05T08:13:21.739032Z",
     "start_time": "2021-03-05T08:13:21.697742Z"
    }
   },
   "outputs": [],
   "source": [
    "# 캐릭터명 아닌 것 정리\n",
    "df.Source = df.Source.apply(lambda x: re.sub(r\"\\[[\\w\\W]+\", \"\", x))\n",
    "df.Target = df.Target.apply(lambda x: re.sub(r\"\\[[\\w\\W]+\", \"\", x))\n",
    "\n",
    "# 캐릭터 명 통일\n",
    "df.Source = df.Source.apply(lambda x: x.strip())\n",
    "df.Target = df.Target.apply(lambda x: x.strip())\n",
    "\n",
    "for index, row in df.iterrows():\n",
    "    if row.Source in synonyms:\n",
    "        row.Source = synonyms[row.Source]\n",
    "        \n",
    "    if row.Target in synonyms:\n",
    "        row.Target = synonyms[row.Target]"
   ]
  },
  {
   "cell_type": "code",
   "execution_count": 40,
   "metadata": {
    "ExecuteTime": {
     "end_time": "2021-03-05T08:13:21.745745Z",
     "start_time": "2021-03-05T08:13:21.740869Z"
    },
    "scrolled": true
   },
   "outputs": [
    {
     "data": {
      "text/plain": [
       "{'',\n",
       " 'AKIHIKO',\n",
       " 'ALEXANDER PIERCE',\n",
       " 'ANTMAN',\n",
       " 'ASGARDIAN SOLDIER (2013)',\n",
       " 'BLACK PANTHER',\n",
       " 'BLACK WIDOW',\n",
       " 'BOY',\n",
       " 'BRUCE BANNER',\n",
       " 'BRUCE ROGERS',\n",
       " 'BUCKY BARNES',\n",
       " 'CAPTAIN AMERICA',\n",
       " 'CAROL DANVERS',\n",
       " 'CASSIE LANG',\n",
       " 'COOPER BARTON',\n",
       " 'CORVUS GLAIVE',\n",
       " 'DOCTOR STRANGE',\n",
       " 'DRAX',\n",
       " 'EBONY MAW',\n",
       " 'EDWIN JARVIS',\n",
       " 'ELEVATOR LADY',\n",
       " 'EVERYONE',\n",
       " 'FALCON',\n",
       " 'FRIDAY',\n",
       " 'FRIGGA',\n",
       " 'GAMORA',\n",
       " 'GIRL',\n",
       " 'GROOT',\n",
       " 'HANK PYM',\n",
       " 'HAPPY',\n",
       " 'HAWKEYE',\n",
       " 'HOPE VAN DYNE',\n",
       " 'HOWARD STARK',\n",
       " 'HULK',\n",
       " 'HYDRA AGENT',\n",
       " 'IRON MAN',\n",
       " 'JAMES RHODES',\n",
       " 'JIM STARLIN',\n",
       " 'JOE RUSSO',\n",
       " 'KORG',\n",
       " 'LAURA BARTON',\n",
       " 'LILA BARTON',\n",
       " 'LOKI',\n",
       " 'MANTIS',\n",
       " 'MORGAN STARK',\n",
       " 'NATHANIEL BARTON',\n",
       " 'NEBULA',\n",
       " 'OKOYE',\n",
       " 'PEPPER POTTS',\n",
       " 'RED SKULL',\n",
       " 'RHODEY',\n",
       " 'ROCKET',\n",
       " 'RONIN',\n",
       " 'RUMLOW (2012)',\n",
       " 'SECURITY OFFICER',\n",
       " 'SITWELL',\n",
       " 'SPIDERMAN',\n",
       " 'STAR-LORD',\n",
       " 'THANOS',\n",
       " 'THE ANCIENT ONE (2012)',\n",
       " 'THE WASP',\n",
       " 'THOR',\n",
       " 'VALKYRIE',\n",
       " 'WANDA MAXIMOFF',\n",
       " 'WONG'}"
      ]
     },
     "execution_count": 40,
     "metadata": {},
     "output_type": "execute_result"
    }
   ],
   "source": [
    "set(list(df.Source.unique()) + list(df.Target.unique()))"
   ]
  },
  {
   "cell_type": "markdown",
   "metadata": {},
   "source": [
    "# 추가 전처리"
   ]
  },
  {
   "cell_type": "code",
   "execution_count": 41,
   "metadata": {
    "ExecuteTime": {
     "end_time": "2021-03-05T08:13:21.981927Z",
     "start_time": "2021-03-05T08:13:21.747240Z"
    }
   },
   "outputs": [
    {
     "name": "stdout",
     "output_type": "stream",
     "text": [
      "(147, 5)\n"
     ]
    },
    {
     "name": "stderr",
     "output_type": "stream",
     "text": [
      "/Users/dongwook/opt/anaconda3/lib/python3.8/site-packages/pandas/core/frame.py:3990: SettingWithCopyWarning: \n",
      "A value is trying to be set on a copy of a slice from a DataFrame\n",
      "\n",
      "See the caveats in the documentation: https://pandas.pydata.org/pandas-docs/stable/user_guide/indexing.html#returning-a-view-versus-a-copy\n",
      "  return super().drop(\n"
     ]
    },
    {
     "data": {
      "text/html": [
       "<div>\n",
       "<style scoped>\n",
       "    .dataframe tbody tr th:only-of-type {\n",
       "        vertical-align: middle;\n",
       "    }\n",
       "\n",
       "    .dataframe tbody tr th {\n",
       "        vertical-align: top;\n",
       "    }\n",
       "\n",
       "    .dataframe thead th {\n",
       "        text-align: right;\n",
       "    }\n",
       "</style>\n",
       "<table border=\"1\" class=\"dataframe\">\n",
       "  <thead>\n",
       "    <tr style=\"text-align: right;\">\n",
       "      <th></th>\n",
       "      <th>Source</th>\n",
       "      <th>Target</th>\n",
       "      <th>Type</th>\n",
       "      <th>weight</th>\n",
       "      <th>series</th>\n",
       "    </tr>\n",
       "  </thead>\n",
       "  <tbody>\n",
       "    <tr>\n",
       "      <th>0</th>\n",
       "      <td>IRON MAN</td>\n",
       "      <td>ANTMAN</td>\n",
       "      <td>Undirected</td>\n",
       "      <td>49</td>\n",
       "      <td>4</td>\n",
       "    </tr>\n",
       "    <tr>\n",
       "      <th>1</th>\n",
       "      <td>IRON MAN</td>\n",
       "      <td>HOWARD STARK</td>\n",
       "      <td>Undirected</td>\n",
       "      <td>45</td>\n",
       "      <td>4</td>\n",
       "    </tr>\n",
       "    <tr>\n",
       "      <th>2</th>\n",
       "      <td>FRIGGA</td>\n",
       "      <td>THOR</td>\n",
       "      <td>Undirected</td>\n",
       "      <td>35</td>\n",
       "      <td>4</td>\n",
       "    </tr>\n",
       "    <tr>\n",
       "      <th>3</th>\n",
       "      <td>BRUCE BANNER</td>\n",
       "      <td>CAPTAIN AMERICA</td>\n",
       "      <td>Undirected</td>\n",
       "      <td>31</td>\n",
       "      <td>4</td>\n",
       "    </tr>\n",
       "    <tr>\n",
       "      <th>4</th>\n",
       "      <td>BRUCE BANNER</td>\n",
       "      <td>ANTMAN</td>\n",
       "      <td>Undirected</td>\n",
       "      <td>29</td>\n",
       "      <td>4</td>\n",
       "    </tr>\n",
       "  </tbody>\n",
       "</table>\n",
       "</div>"
      ],
      "text/plain": [
       "         Source           Target        Type weight  series\n",
       "0      IRON MAN           ANTMAN  Undirected     49       4\n",
       "1      IRON MAN     HOWARD STARK  Undirected     45       4\n",
       "2        FRIGGA             THOR  Undirected     35       4\n",
       "3  BRUCE BANNER  CAPTAIN AMERICA  Undirected     31       4\n",
       "4  BRUCE BANNER           ANTMAN  Undirected     29       4"
      ]
     },
     "execution_count": 41,
     "metadata": {},
     "output_type": "execute_result"
    }
   ],
   "source": [
    "avengers_4 = preprocess(df=df, series_no=4)\n",
    "\n",
    "print(avengers_4.shape)\n",
    "avengers_4.head()"
   ]
  },
  {
   "cell_type": "code",
   "execution_count": 42,
   "metadata": {
    "ExecuteTime": {
     "end_time": "2021-03-05T08:13:21.991830Z",
     "start_time": "2021-03-05T08:13:21.983404Z"
    }
   },
   "outputs": [
    {
     "data": {
      "text/html": [
       "<div>\n",
       "<style scoped>\n",
       "    .dataframe tbody tr th:only-of-type {\n",
       "        vertical-align: middle;\n",
       "    }\n",
       "\n",
       "    .dataframe tbody tr th {\n",
       "        vertical-align: top;\n",
       "    }\n",
       "\n",
       "    .dataframe thead th {\n",
       "        text-align: right;\n",
       "    }\n",
       "</style>\n",
       "<table border=\"1\" class=\"dataframe\">\n",
       "  <thead>\n",
       "    <tr style=\"text-align: right;\">\n",
       "      <th></th>\n",
       "      <th>Source</th>\n",
       "      <th>Target</th>\n",
       "      <th>Type</th>\n",
       "      <th>weight</th>\n",
       "      <th>series</th>\n",
       "    </tr>\n",
       "  </thead>\n",
       "  <tbody>\n",
       "    <tr>\n",
       "      <th>8</th>\n",
       "      <td>THOR</td>\n",
       "      <td>IRON MAN</td>\n",
       "      <td>Undirected</td>\n",
       "      <td>22</td>\n",
       "      <td>4</td>\n",
       "    </tr>\n",
       "    <tr>\n",
       "      <th>14</th>\n",
       "      <td>THOR</td>\n",
       "      <td>STAR-LORD</td>\n",
       "      <td>Undirected</td>\n",
       "      <td>13</td>\n",
       "      <td>4</td>\n",
       "    </tr>\n",
       "    <tr>\n",
       "      <th>15</th>\n",
       "      <td>THOR</td>\n",
       "      <td>KORG</td>\n",
       "      <td>Undirected</td>\n",
       "      <td>13</td>\n",
       "      <td>4</td>\n",
       "    </tr>\n",
       "    <tr>\n",
       "      <th>26</th>\n",
       "      <td>THOR</td>\n",
       "      <td>HAWKEYE</td>\n",
       "      <td>Undirected</td>\n",
       "      <td>8</td>\n",
       "      <td>4</td>\n",
       "    </tr>\n",
       "    <tr>\n",
       "      <th>34</th>\n",
       "      <td>THOR</td>\n",
       "      <td>CAPTAIN AMERICA</td>\n",
       "      <td>Undirected</td>\n",
       "      <td>6</td>\n",
       "      <td>4</td>\n",
       "    </tr>\n",
       "    <tr>\n",
       "      <th>41</th>\n",
       "      <td>THOR</td>\n",
       "      <td>ANTMAN</td>\n",
       "      <td>Undirected</td>\n",
       "      <td>5</td>\n",
       "      <td>4</td>\n",
       "    </tr>\n",
       "    <tr>\n",
       "      <th>98</th>\n",
       "      <td>THOR</td>\n",
       "      <td>DRAX</td>\n",
       "      <td>Undirected</td>\n",
       "      <td>1</td>\n",
       "      <td>4</td>\n",
       "    </tr>\n",
       "    <tr>\n",
       "      <th>111</th>\n",
       "      <td>THOR</td>\n",
       "      <td>SPIDERMAN</td>\n",
       "      <td>Undirected</td>\n",
       "      <td>1</td>\n",
       "      <td>4</td>\n",
       "    </tr>\n",
       "    <tr>\n",
       "      <th>131</th>\n",
       "      <td>THOR</td>\n",
       "      <td>EVERYONE</td>\n",
       "      <td>Undirected</td>\n",
       "      <td>1</td>\n",
       "      <td>4</td>\n",
       "    </tr>\n",
       "  </tbody>\n",
       "</table>\n",
       "</div>"
      ],
      "text/plain": [
       "    Source           Target        Type weight  series\n",
       "8     THOR         IRON MAN  Undirected     22       4\n",
       "14    THOR        STAR-LORD  Undirected     13       4\n",
       "15    THOR             KORG  Undirected     13       4\n",
       "26    THOR          HAWKEYE  Undirected      8       4\n",
       "34    THOR  CAPTAIN AMERICA  Undirected      6       4\n",
       "41    THOR           ANTMAN  Undirected      5       4\n",
       "98    THOR             DRAX  Undirected      1       4\n",
       "111   THOR        SPIDERMAN  Undirected      1       4\n",
       "131   THOR         EVERYONE  Undirected      1       4"
      ]
     },
     "execution_count": 42,
     "metadata": {},
     "output_type": "execute_result"
    }
   ],
   "source": [
    "avengers_4[avengers_4.Source == \"THOR\"]"
   ]
  },
  {
   "cell_type": "code",
   "execution_count": 43,
   "metadata": {
    "ExecuteTime": {
     "end_time": "2021-03-05T08:13:22.002439Z",
     "start_time": "2021-03-05T08:13:21.993593Z"
    }
   },
   "outputs": [
    {
     "data": {
      "text/html": [
       "<div>\n",
       "<style scoped>\n",
       "    .dataframe tbody tr th:only-of-type {\n",
       "        vertical-align: middle;\n",
       "    }\n",
       "\n",
       "    .dataframe tbody tr th {\n",
       "        vertical-align: top;\n",
       "    }\n",
       "\n",
       "    .dataframe thead th {\n",
       "        text-align: right;\n",
       "    }\n",
       "</style>\n",
       "<table border=\"1\" class=\"dataframe\">\n",
       "  <thead>\n",
       "    <tr style=\"text-align: right;\">\n",
       "      <th></th>\n",
       "      <th>Source</th>\n",
       "      <th>Target</th>\n",
       "      <th>Type</th>\n",
       "      <th>weight</th>\n",
       "      <th>series</th>\n",
       "    </tr>\n",
       "  </thead>\n",
       "  <tbody>\n",
       "    <tr>\n",
       "      <th>2</th>\n",
       "      <td>FRIGGA</td>\n",
       "      <td>THOR</td>\n",
       "      <td>Undirected</td>\n",
       "      <td>35</td>\n",
       "      <td>4</td>\n",
       "    </tr>\n",
       "    <tr>\n",
       "      <th>10</th>\n",
       "      <td>BRUCE BANNER</td>\n",
       "      <td>THOR</td>\n",
       "      <td>Undirected</td>\n",
       "      <td>17</td>\n",
       "      <td>4</td>\n",
       "    </tr>\n",
       "    <tr>\n",
       "      <th>21</th>\n",
       "      <td>VALKYRIE</td>\n",
       "      <td>THOR</td>\n",
       "      <td>Undirected</td>\n",
       "      <td>9</td>\n",
       "      <td>4</td>\n",
       "    </tr>\n",
       "    <tr>\n",
       "      <th>42</th>\n",
       "      <td>ALEXANDER PIERCE</td>\n",
       "      <td>THOR</td>\n",
       "      <td>Undirected</td>\n",
       "      <td>5</td>\n",
       "      <td>4</td>\n",
       "    </tr>\n",
       "    <tr>\n",
       "      <th>56</th>\n",
       "      <td>RHODEY</td>\n",
       "      <td>THOR</td>\n",
       "      <td>Undirected</td>\n",
       "      <td>3</td>\n",
       "      <td>4</td>\n",
       "    </tr>\n",
       "    <tr>\n",
       "      <th>79</th>\n",
       "      <td>HULK</td>\n",
       "      <td>THOR</td>\n",
       "      <td>Undirected</td>\n",
       "      <td>2</td>\n",
       "      <td>4</td>\n",
       "    </tr>\n",
       "    <tr>\n",
       "      <th>123</th>\n",
       "      <td>CAROL DANVERS</td>\n",
       "      <td>THOR</td>\n",
       "      <td>Undirected</td>\n",
       "      <td>1</td>\n",
       "      <td>4</td>\n",
       "    </tr>\n",
       "    <tr>\n",
       "      <th>134</th>\n",
       "      <td>BRUCE ROGERS</td>\n",
       "      <td>THOR</td>\n",
       "      <td>Undirected</td>\n",
       "      <td>1</td>\n",
       "      <td>4</td>\n",
       "    </tr>\n",
       "    <tr>\n",
       "      <th>138</th>\n",
       "      <td>ASGARDIAN SOLDIER (2013)</td>\n",
       "      <td>THOR</td>\n",
       "      <td>Undirected</td>\n",
       "      <td>1</td>\n",
       "      <td>4</td>\n",
       "    </tr>\n",
       "    <tr>\n",
       "      <th>145</th>\n",
       "      <td>LOKI</td>\n",
       "      <td>THOR</td>\n",
       "      <td>Undirected</td>\n",
       "      <td>1</td>\n",
       "      <td>4</td>\n",
       "    </tr>\n",
       "  </tbody>\n",
       "</table>\n",
       "</div>"
      ],
      "text/plain": [
       "                       Source Target        Type weight  series\n",
       "2                      FRIGGA   THOR  Undirected     35       4\n",
       "10               BRUCE BANNER   THOR  Undirected     17       4\n",
       "21                   VALKYRIE   THOR  Undirected      9       4\n",
       "42           ALEXANDER PIERCE   THOR  Undirected      5       4\n",
       "56                     RHODEY   THOR  Undirected      3       4\n",
       "79                       HULK   THOR  Undirected      2       4\n",
       "123             CAROL DANVERS   THOR  Undirected      1       4\n",
       "134              BRUCE ROGERS   THOR  Undirected      1       4\n",
       "138  ASGARDIAN SOLDIER (2013)   THOR  Undirected      1       4\n",
       "145                      LOKI   THOR  Undirected      1       4"
      ]
     },
     "execution_count": 43,
     "metadata": {},
     "output_type": "execute_result"
    }
   ],
   "source": [
    "avengers_4[avengers_4.Target == \"THOR\"]"
   ]
  },
  {
   "cell_type": "markdown",
   "metadata": {},
   "source": [
    "# 데이터 저장"
   ]
  },
  {
   "cell_type": "code",
   "execution_count": 44,
   "metadata": {
    "ExecuteTime": {
     "end_time": "2021-03-05T08:13:22.014234Z",
     "start_time": "2021-03-05T08:13:22.003967Z"
    }
   },
   "outputs": [],
   "source": [
    "avengers_1.to_csv(\"./Data/avengers1.csv\", index=False)\n",
    "avengers_2.to_csv(\"./Data/avengers2.csv\", index=False)\n",
    "avengers_3.to_csv(\"./Data/avengers3.csv\", index=False)\n",
    "avengers_4.to_csv(\"./Data/avengers4.csv\", index=False)"
   ]
  }
 ],
 "metadata": {
  "kernelspec": {
   "display_name": "Python 3",
   "language": "python",
   "name": "python3"
  },
  "language_info": {
   "codemirror_mode": {
    "name": "ipython",
    "version": 3
   },
   "file_extension": ".py",
   "mimetype": "text/x-python",
   "name": "python",
   "nbconvert_exporter": "python",
   "pygments_lexer": "ipython3",
   "version": "3.8.3"
  },
  "toc": {
   "base_numbering": 1,
   "nav_menu": {},
   "number_sections": true,
   "sideBar": true,
   "skip_h1_title": false,
   "title_cell": "Table of Contents",
   "title_sidebar": "Contents",
   "toc_cell": false,
   "toc_position": {
    "height": "calc(100% - 180px)",
    "left": "10px",
    "top": "150px",
    "width": "288px"
   },
   "toc_section_display": true,
   "toc_window_display": true
  }
 },
 "nbformat": 4,
 "nbformat_minor": 4
}
